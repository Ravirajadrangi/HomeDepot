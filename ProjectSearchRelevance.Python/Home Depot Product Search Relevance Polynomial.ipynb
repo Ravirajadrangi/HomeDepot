{
 "cells": [
  {
   "cell_type": "markdown",
   "metadata": {},
   "source": [
    "# Home Depot Product Search Relevance\n",
    "The challenge is to predict a relevance score for the provided combinations of search terms and products. To create the ground truth labels, Home Depot has crowdsourced the search/product pairs to multiple human raters."
   ]
  },
  {
   "cell_type": "markdown",
   "metadata": {},
   "source": [
    "## LabGraph Create\n",
    "This notebook uses the LabGraph create machine learning iPython module. You need a personal licence to run this code."
   ]
  },
  {
   "cell_type": "code",
   "execution_count": 1,
   "metadata": {
    "collapsed": false
   },
   "outputs": [],
   "source": [
    "import graphlab as gl"
   ]
  },
  {
   "cell_type": "markdown",
   "metadata": {},
   "source": [
    "### Load data from CSV files"
   ]
  },
  {
   "cell_type": "code",
   "execution_count": 2,
   "metadata": {
    "collapsed": false
   },
   "outputs": [
    {
     "name": "stderr",
     "output_type": "stream",
     "text": [
      "[INFO] This non-commercial license of GraphLab Create is assigned to thomasv1000@hotmail.fr and will expire on October 12, 2016. For commercial licensing options, visit https://dato.com/buy/.\n",
      "\n",
      "[INFO] Start server at: ipc:///tmp/graphlab_server-33196 - Server binary: /Users/tjaskula/.graphlab/anaconda/lib/python2.7/site-packages/graphlab/unity_server - Server log: /tmp/graphlab_server_1454972915.log\n",
      "[INFO] GraphLab Server Version: 1.8.1\n"
     ]
    },
    {
     "name": "stdout",
     "output_type": "stream",
     "text": [
      "PROGRESS: Finished parsing file /Users/tjaskula/Documents/GitHub/Kaggle.HomeDepot/data/train.csv\n",
      "PROGRESS: Parsing completed. Parsed 100 lines in 0.113239 secs.\n",
      "------------------------------------------------------\n",
      "Inferred types from first line of file as \n",
      "column_type_hints=[int,int,str,str,float]\n",
      "If parsing fails due to incorrect types, you can correct\n",
      "the inferred type list above and pass it to read_csv in\n",
      "the column_type_hints argument\n",
      "------------------------------------------------------\n",
      "PROGRESS: Finished parsing file /Users/tjaskula/Documents/GitHub/Kaggle.HomeDepot/data/train.csv\n",
      "PROGRESS: Parsing completed. Parsed 74067 lines in 0.162205 secs.\n"
     ]
    }
   ],
   "source": [
    "train = gl.SFrame.read_csv(\"../data/train.csv\")"
   ]
  },
  {
   "cell_type": "code",
   "execution_count": 3,
   "metadata": {
    "collapsed": false
   },
   "outputs": [
    {
     "name": "stdout",
     "output_type": "stream",
     "text": [
      "PROGRESS: Finished parsing file /Users/tjaskula/Documents/GitHub/Kaggle.HomeDepot/data/test.csv\n",
      "PROGRESS: Parsing completed. Parsed 100 lines in 0.204127 secs.\n",
      "------------------------------------------------------\n",
      "Inferred types from first line of file as \n",
      "column_type_hints=[int,int,str,str]\n",
      "If parsing fails due to incorrect types, you can correct\n",
      "the inferred type list above and pass it to read_csv in\n",
      "the column_type_hints argument\n",
      "------------------------------------------------------\n",
      "PROGRESS: Finished parsing file /Users/tjaskula/Documents/GitHub/Kaggle.HomeDepot/data/test.csv\n",
      "PROGRESS: Parsing completed. Parsed 166693 lines in 0.328047 secs.\n"
     ]
    }
   ],
   "source": [
    "test = gl.SFrame.read_csv(\"../data/test.csv\")"
   ]
  },
  {
   "cell_type": "code",
   "execution_count": 4,
   "metadata": {
    "collapsed": false
   },
   "outputs": [
    {
     "name": "stdout",
     "output_type": "stream",
     "text": [
      "PROGRESS: Finished parsing file /Users/tjaskula/Documents/GitHub/Kaggle.HomeDepot/data/product_descriptions.csv\n",
      "PROGRESS: Parsing completed. Parsed 100 lines in 0.493478 secs.\n",
      "------------------------------------------------------\n",
      "Inferred types from first line of file as \n",
      "column_type_hints=[int,str]\n",
      "If parsing fails due to incorrect types, you can correct\n",
      "the inferred type list above and pass it to read_csv in\n",
      "the column_type_hints argument\n",
      "------------------------------------------------------\n",
      "PROGRESS: Read 61134 lines. Lines per second: 60645.4\n",
      "PROGRESS: Finished parsing file /Users/tjaskula/Documents/GitHub/Kaggle.HomeDepot/data/product_descriptions.csv\n",
      "PROGRESS: Parsing completed. Parsed 124428 lines in 1.60894 secs.\n"
     ]
    }
   ],
   "source": [
    "desc = gl.SFrame.read_csv(\"../data/product_descriptions.csv\")"
   ]
  },
  {
   "cell_type": "markdown",
   "metadata": {},
   "source": [
    "### Data merging"
   ]
  },
  {
   "cell_type": "code",
   "execution_count": 5,
   "metadata": {
    "collapsed": true
   },
   "outputs": [],
   "source": [
    "# merge train with description\n",
    "train = train.join(desc, on = 'product_uid', how = 'left')"
   ]
  },
  {
   "cell_type": "code",
   "execution_count": 6,
   "metadata": {
    "collapsed": false
   },
   "outputs": [],
   "source": [
    "# merge test with description\n",
    "test = test.join(desc, on = 'product_uid', how = 'left')"
   ]
  },
  {
   "cell_type": "markdown",
   "metadata": {
    "collapsed": true
   },
   "source": [
    "### Let's explore some data"
   ]
  },
  {
   "cell_type": "markdown",
   "metadata": {
    "collapsed": false
   },
   "source": [
    "Let's examine 3 different queries and products:\n",
    "* first from the training set\n",
    "* somewhere in the moddle in the training set\n",
    "* the last one from the training set"
   ]
  },
  {
   "cell_type": "code",
   "execution_count": 7,
   "metadata": {
    "collapsed": false
   },
   "outputs": [
    {
     "data": {
      "text/plain": [
       "{'id': 2,\n",
       " 'product_description': 'Not only do angles make joints stronger, they also provide more consistent, straight corners. Simpson Strong-Tie offers a wide variety of angles in various sizes and thicknesses to handle light-duty jobs or projects where a structural connection is needed. Some can be bent (skewed) to match the project. For outdoor projects or those where moisture is present, use our ZMAX zinc-coated connectors, which provide extra resistance against corrosion (look for a \"Z\" at the end of the model number).Versatile connector for various 90 connections and home repair projectsStronger than angled nailing or screw fastening aloneHelp ensure joints are consistently straight and strongDimensions: 3 in. x 3 in. x 1-1/2 in.Made from 12-Gauge steelGalvanized for extra corrosion resistanceInstall with 10d common nails or #9 x 1-1/2 in. Strong-Drive SD screws',\n",
       " 'product_title': 'Simpson Strong-Tie 12-Gauge Angle',\n",
       " 'product_uid': 100001,\n",
       " 'relevance': 3.0,\n",
       " 'search_term': 'angle bracket'}"
      ]
     },
     "execution_count": 7,
     "metadata": {},
     "output_type": "execute_result"
    }
   ],
   "source": [
    "first_doc = train[0]\n",
    "first_doc"
   ]
  },
  {
   "cell_type": "markdown",
   "metadata": {},
   "source": [
    "**'angle bracket'** search term is not contained in the body. **'angle'** would be after stemming however **'bracket'** is not."
   ]
  },
  {
   "cell_type": "code",
   "execution_count": 8,
   "metadata": {
    "collapsed": false
   },
   "outputs": [
    {
     "data": {
      "text/plain": [
       "{'id': 113228,\n",
       " 'product_description': 'PureBond Plywood Project Panels are a convenient and cost-effective way to build cabinets, furniture and other woodworking projects. It provides a beautiful wood veneer face bonded to a strong and flat wood core. These PureBond Project Panels are made with no added formaldehyde, eliminating the concern about off-gassing dangerous fumes during fabrication or when installed in your home. Their smaller size makes them easy to handle and allows you to order just the amount of wood you need. PureBond plywood, in Project Panels sizes or in full sheet sizes, are a Home Depot exclusive.California residents: see&nbsp;Proposition 65 informationDecorative mahogany veneer applied to both sides of this panelB-2 plain sliced mahogany - 7-ply constructionLight weight, all-wood veneer constructionPrecision-cut hardwood plywood panels in convenient small sizesCommon: 3/4 in. x 2 ft. x 4 ft.; Actual: 0.703 in. x 24 in. x 48 in.Grade: B-2',\n",
       " 'product_title': '3/4 in. x 2 ft. x 4 ft. PureBond Mahogany Plywood Project Panel',\n",
       " 'product_uid': 137334,\n",
       " 'relevance': 3.0,\n",
       " 'search_term': 'table top wood'}"
      ]
     },
     "execution_count": 8,
     "metadata": {},
     "output_type": "execute_result"
    }
   ],
   "source": [
    "middle_doc = train[37033]\n",
    "middle_doc"
   ]
  },
  {
   "cell_type": "markdown",
   "metadata": {},
   "source": [
    "only **'wood'** is present from search term"
   ]
  },
  {
   "cell_type": "code",
   "execution_count": 9,
   "metadata": {
    "collapsed": false
   },
   "outputs": [
    {
     "data": {
      "text/plain": [
       "{'id': 221473,\n",
       " 'product_description': 'No. 918 Millennial Ryan heathered texture semi-sheer curtain is a casual solid that adds freshness and a finishing touch to any decor setting. Enhances privacy while allowing light to gently filter through. Clean, simple one-pocket pole top design can be used with a standard or decorative curtain rod. Mix and match with other solids and prints for a look that is all your own.Sheer panel, gently filters lightNo header pole top panelMachine washableWide array of colors to choose from100% polyesterContains 1-curtain panel',\n",
       " 'product_title': 'LICHTENBERG Pool Blue No. 918 Millennial Ryan Heathered Texture Sheer Curtain Panel, 40 in. W x 63 in. L',\n",
       " 'product_uid': 206650,\n",
       " 'relevance': 2.33,\n",
       " 'search_term': 'fine sheer curtain 63 inches'}"
      ]
     },
     "execution_count": 9,
     "metadata": {},
     "output_type": "execute_result"
    }
   ],
   "source": [
    "last_doc = train[-1]\n",
    "last_doc"
   ]
  },
  {
   "cell_type": "markdown",
   "metadata": {},
   "source": [
    "**'sheer'** and **'courtain'** are present and that's all"
   ]
  },
  {
   "cell_type": "markdown",
   "metadata": {},
   "source": [
    "### How many search terms are not present in description and title for ranked 3 documents\n",
    "Ranked 3 documents are the most relevents searches, but how many search queries doesn't include the searched term in the description and the title"
   ]
  },
  {
   "cell_type": "code",
   "execution_count": 10,
   "metadata": {
    "collapsed": false
   },
   "outputs": [
    {
     "name": "stdout",
     "output_type": "stream",
     "text": [
      "+-----+-------------+-------------------------------+\n",
      "|  id | product_uid |         product_title         |\n",
      "+-----+-------------+-------------------------------+\n",
      "|  2  |    100001   | Simpson Strong-Tie 12-Gaug... |\n",
      "|  9  |    100002   | BEHR Premium Textured Deck... |\n",
      "|  18 |    100006   | Whirlpool 1.9 cu. ft. Over... |\n",
      "|  21 |    100006   | Whirlpool 1.9 cu. ft. Over... |\n",
      "|  27 |    100009   | House of Fara 3/4 in. x 3 ... |\n",
      "|  35 |    100011   | Toro Personal Pace Recycle... |\n",
      "|  37 |    100011   | Toro Personal Pace Recycle... |\n",
      "|  65 |    100016   | Sunjoy Calais 8 ft. x 5 ft... |\n",
      "| 123 |    100023   | Quikrete 80 lb. Crack-Resi... |\n",
      "| 162 |    100029   | DecoArt Americana Decor 16... |\n",
      "+-----+-------------+-------------------------------+\n",
      "+--------------------------------+-----------+-------------------------------+\n",
      "|          search_term           | relevance |      product_description      |\n",
      "+--------------------------------+-----------+-------------------------------+\n",
      "|         angle bracket          |    3.0    | Not only do angles make jo... |\n",
      "|           deck over            |    3.0    | BEHR Premium Textured DECK... |\n",
      "|         convection otr         |    3.0    | Achieving delicious result... |\n",
      "|           microwaves           |    3.0    | Achieving delicious result... |\n",
      "|            mdf 3/4             |    3.0    | Get the House of Fara 3/4 ... |\n",
      "| briggs and stratton lawn mower |    3.0    | Recycler 22 in. Personal P... |\n",
      "|            gas mowe            |    3.0    | Recycler 22 in. Personal P... |\n",
      "|          grill gazebo          |    3.0    | Make grilling great with t... |\n",
      "| CONCRETE & MASONRY CLEANER...  |    3.0    | Quikrete 80 lb. Crack-Resi... |\n",
      "|          chalk paint           |    3.0    | Achieving a vintage, time-... |\n",
      "+--------------------------------+-----------+-------------------------------+\n",
      "+-------------------------------+\n",
      "|     search_term_word_count    |\n",
      "+-------------------------------+\n",
      "|   {'bracket': 1, 'angle': 1}  |\n",
      "|     {'over': 1, 'deck': 1}    |\n",
      "|  {'otr': 1, 'convection': 1}  |\n",
      "|       {'microwaves': 1}       |\n",
      "|      {'mdf': 1, '3/4': 1}     |\n",
      "| {'and': 1, 'stratton': 1, ... |\n",
      "|     {'gas': 1, 'mowe': 1}     |\n",
      "|   {'grill': 1, 'gazebo': 1}   |\n",
      "| {'etcher': 1, 'cleaner': 1... |\n",
      "|    {'chalk': 1, 'paint': 1}   |\n",
      "+-------------------------------+\n",
      "[10 rows x 7 columns]\n",
      "\n"
     ]
    },
    {
     "data": {
      "text/plain": [
       "19125"
      ]
     },
     "execution_count": 10,
     "metadata": {},
     "output_type": "execute_result"
    }
   ],
   "source": [
    "train['search_term_word_count'] = gl.text_analytics.count_words(train['search_term'])\n",
    "ranked3doc = train[train['relevance'] == 3]\n",
    "print ranked3doc.head()\n",
    "len(ranked3doc)"
   ]
  },
  {
   "cell_type": "code",
   "execution_count": 11,
   "metadata": {
    "collapsed": false
   },
   "outputs": [],
   "source": [
    "words_search = gl.text_analytics.tokenize(ranked3doc['search_term'], to_lower = True)\n",
    "words_description = gl.text_analytics.tokenize(ranked3doc['product_description'], to_lower = True)\n",
    "words_title = gl.text_analytics.tokenize(ranked3doc['product_title'], to_lower = True)\n",
    "wordsdiff_desc = []\n",
    "wordsdiff_title = []\n",
    "puid = []\n",
    "search_term = []\n",
    "ws_count = []\n",
    "ws_count_used_desc = []\n",
    "ws_count_used_title = []\n",
    "for item in xrange(len(ranked3doc)):\n",
    "    ws = words_search[item]\n",
    "    pd = words_description[item]\n",
    "    pt = words_title[item]\n",
    "    diff = set(ws) - set(pd)\n",
    "    if diff is None:\n",
    "        diff = 0\n",
    "    wordsdiff_desc.append(diff)\n",
    "    \n",
    "    diff2 = set(ws) - set(pt)\n",
    "    if diff2 is None:\n",
    "        diff2 = 0\n",
    "    wordsdiff_title.append(diff2)\n",
    "    \n",
    "    puid.append(ranked3doc[item]['product_uid'])\n",
    "    search_term.append(ranked3doc[item]['search_term'])\n",
    "    ws_count.append(len(ws))\n",
    "    ws_count_used_desc.append(len(ws) - len(diff))\n",
    "    ws_count_used_title.append(len(ws) - len(diff2))\n",
    "    \n",
    "differences = gl.SFrame({\"puid\" : puid,\n",
    "                         \"search term\": search_term,\n",
    "                         \"diff desc\" : wordsdiff_desc,\n",
    "                         \"diff title\" : wordsdiff_title,\n",
    "                         \"ws count\" : ws_count, \n",
    "                         \"ws count used desc\" : ws_count_used_desc,\n",
    "                         \"ws count used title\" : ws_count_used_title})"
   ]
  },
  {
   "cell_type": "code",
   "execution_count": 12,
   "metadata": {
    "collapsed": false
   },
   "outputs": [
    {
     "data": {
      "text/html": [
       "<div style=\"max-height:1000px;max-width:1500px;overflow:auto;\"><table frame=\"box\" rules=\"cols\">\n",
       "    <tr>\n",
       "        <th style=\"padding-left: 1em; padding-right: 1em; text-align: center\">diff desc</th>\n",
       "        <th style=\"padding-left: 1em; padding-right: 1em; text-align: center\">diff title</th>\n",
       "        <th style=\"padding-left: 1em; padding-right: 1em; text-align: center\">puid</th>\n",
       "        <th style=\"padding-left: 1em; padding-right: 1em; text-align: center\">search term</th>\n",
       "        <th style=\"padding-left: 1em; padding-right: 1em; text-align: center\">ws count</th>\n",
       "        <th style=\"padding-left: 1em; padding-right: 1em; text-align: center\">ws count used desc</th>\n",
       "    </tr>\n",
       "    <tr>\n",
       "        <td style=\"padding-left: 1em; padding-right: 1em; text-align: center; vertical-align: top\">[recycling, bins]</td>\n",
       "        <td style=\"padding-left: 1em; padding-right: 1em; text-align: center; vertical-align: top\">[recycling, bins]</td>\n",
       "        <td style=\"padding-left: 1em; padding-right: 1em; text-align: center; vertical-align: top\">145727</td>\n",
       "        <td style=\"padding-left: 1em; padding-right: 1em; text-align: center; vertical-align: top\">recycling bins</td>\n",
       "        <td style=\"padding-left: 1em; padding-right: 1em; text-align: center; vertical-align: top\">2</td>\n",
       "        <td style=\"padding-left: 1em; padding-right: 1em; text-align: center; vertical-align: top\">0</td>\n",
       "    </tr>\n",
       "    <tr>\n",
       "        <td style=\"padding-left: 1em; padding-right: 1em; text-align: center; vertical-align: top\">[over, deck]</td>\n",
       "        <td style=\"padding-left: 1em; padding-right: 1em; text-align: center; vertical-align: top\">[over, deck]</td>\n",
       "        <td style=\"padding-left: 1em; padding-right: 1em; text-align: center; vertical-align: top\">100002</td>\n",
       "        <td style=\"padding-left: 1em; padding-right: 1em; text-align: center; vertical-align: top\">deck over</td>\n",
       "        <td style=\"padding-left: 1em; padding-right: 1em; text-align: center; vertical-align: top\">2</td>\n",
       "        <td style=\"padding-left: 1em; padding-right: 1em; text-align: center; vertical-align: top\">0</td>\n",
       "    </tr>\n",
       "    <tr>\n",
       "        <td style=\"padding-left: 1em; padding-right: 1em; text-align: center; vertical-align: top\">[hammer, electric, drill]</td>\n",
       "        <td style=\"padding-left: 1em; padding-right: 1em; text-align: center; vertical-align: top\">[hammer, electric, drill]</td>\n",
       "        <td style=\"padding-left: 1em; padding-right: 1em; text-align: center; vertical-align: top\">120061</td>\n",
       "        <td style=\"padding-left: 1em; padding-right: 1em; text-align: center; vertical-align: top\">electric hammer drill</td>\n",
       "        <td style=\"padding-left: 1em; padding-right: 1em; text-align: center; vertical-align: top\">3</td>\n",
       "        <td style=\"padding-left: 1em; padding-right: 1em; text-align: center; vertical-align: top\">0</td>\n",
       "    </tr>\n",
       "    <tr>\n",
       "        <td style=\"padding-left: 1em; padding-right: 1em; text-align: center; vertical-align: top\">[microwaves]</td>\n",
       "        <td style=\"padding-left: 1em; padding-right: 1em; text-align: center; vertical-align: top\">[microwaves]</td>\n",
       "        <td style=\"padding-left: 1em; padding-right: 1em; text-align: center; vertical-align: top\">100006</td>\n",
       "        <td style=\"padding-left: 1em; padding-right: 1em; text-align: center; vertical-align: top\">microwaves</td>\n",
       "        <td style=\"padding-left: 1em; padding-right: 1em; text-align: center; vertical-align: top\">1</td>\n",
       "        <td style=\"padding-left: 1em; padding-right: 1em; text-align: center; vertical-align: top\">0</td>\n",
       "    </tr>\n",
       "    <tr>\n",
       "        <td style=\"padding-left: 1em; padding-right: 1em; text-align: center; vertical-align: top\">[plywoods]</td>\n",
       "        <td style=\"padding-left: 1em; padding-right: 1em; text-align: center; vertical-align: top\">[plywoods]</td>\n",
       "        <td style=\"padding-left: 1em; padding-right: 1em; text-align: center; vertical-align: top\">119996</td>\n",
       "        <td style=\"padding-left: 1em; padding-right: 1em; text-align: center; vertical-align: top\">plywoods</td>\n",
       "        <td style=\"padding-left: 1em; padding-right: 1em; text-align: center; vertical-align: top\">1</td>\n",
       "        <td style=\"padding-left: 1em; padding-right: 1em; text-align: center; vertical-align: top\">0</td>\n",
       "    </tr>\n",
       "    <tr>\n",
       "        <td style=\"padding-left: 1em; padding-right: 1em; text-align: center; vertical-align: top\">[coca, cola]</td>\n",
       "        <td style=\"padding-left: 1em; padding-right: 1em; text-align: center; vertical-align: top\">[coca, cola]</td>\n",
       "        <td style=\"padding-left: 1em; padding-right: 1em; text-align: center; vertical-align: top\">120276</td>\n",
       "        <td style=\"padding-left: 1em; padding-right: 1em; text-align: center; vertical-align: top\">coca cola</td>\n",
       "        <td style=\"padding-left: 1em; padding-right: 1em; text-align: center; vertical-align: top\">2</td>\n",
       "        <td style=\"padding-left: 1em; padding-right: 1em; text-align: center; vertical-align: top\">0</td>\n",
       "    </tr>\n",
       "    <tr>\n",
       "        <td style=\"padding-left: 1em; padding-right: 1em; text-align: center; vertical-align: top\">[greenhouses]</td>\n",
       "        <td style=\"padding-left: 1em; padding-right: 1em; text-align: center; vertical-align: top\">[greenhouses]</td>\n",
       "        <td style=\"padding-left: 1em; padding-right: 1em; text-align: center; vertical-align: top\">120318</td>\n",
       "        <td style=\"padding-left: 1em; padding-right: 1em; text-align: center; vertical-align: top\">greenhouses</td>\n",
       "        <td style=\"padding-left: 1em; padding-right: 1em; text-align: center; vertical-align: top\">1</td>\n",
       "        <td style=\"padding-left: 1em; padding-right: 1em; text-align: center; vertical-align: top\">0</td>\n",
       "    </tr>\n",
       "    <tr>\n",
       "        <td style=\"padding-left: 1em; padding-right: 1em; text-align: center; vertical-align: top\">[pipe, cutters]</td>\n",
       "        <td style=\"padding-left: 1em; padding-right: 1em; text-align: center; vertical-align: top\">[pipe, cutters]</td>\n",
       "        <td style=\"padding-left: 1em; padding-right: 1em; text-align: center; vertical-align: top\">119840</td>\n",
       "        <td style=\"padding-left: 1em; padding-right: 1em; text-align: center; vertical-align: top\">pipe cutters</td>\n",
       "        <td style=\"padding-left: 1em; padding-right: 1em; text-align: center; vertical-align: top\">2</td>\n",
       "        <td style=\"padding-left: 1em; padding-right: 1em; text-align: center; vertical-align: top\">0</td>\n",
       "    </tr>\n",
       "    <tr>\n",
       "        <td style=\"padding-left: 1em; padding-right: 1em; text-align: center; vertical-align: top\">[buit, themostat, in]</td>\n",
       "        <td style=\"padding-left: 1em; padding-right: 1em; text-align: center; vertical-align: top\">[buit, themostat, in]</td>\n",
       "        <td style=\"padding-left: 1em; padding-right: 1em; text-align: center; vertical-align: top\">206359</td>\n",
       "        <td style=\"padding-left: 1em; padding-right: 1em; text-align: center; vertical-align: top\">buit in themostat</td>\n",
       "        <td style=\"padding-left: 1em; padding-right: 1em; text-align: center; vertical-align: top\">3</td>\n",
       "        <td style=\"padding-left: 1em; padding-right: 1em; text-align: center; vertical-align: top\">0</td>\n",
       "    </tr>\n",
       "    <tr>\n",
       "        <td style=\"padding-left: 1em; padding-right: 1em; text-align: center; vertical-align: top\">[mowers, ridding]</td>\n",
       "        <td style=\"padding-left: 1em; padding-right: 1em; text-align: center; vertical-align: top\">[mowers, ridding]</td>\n",
       "        <td style=\"padding-left: 1em; padding-right: 1em; text-align: center; vertical-align: top\">120366</td>\n",
       "        <td style=\"padding-left: 1em; padding-right: 1em; text-align: center; vertical-align: top\">ridding mowers</td>\n",
       "        <td style=\"padding-left: 1em; padding-right: 1em; text-align: center; vertical-align: top\">2</td>\n",
       "        <td style=\"padding-left: 1em; padding-right: 1em; text-align: center; vertical-align: top\">0</td>\n",
       "    </tr>\n",
       "</table>\n",
       "<table frame=\"box\" rules=\"cols\">\n",
       "    <tr>\n",
       "        <th style=\"padding-left: 1em; padding-right: 1em; text-align: center\">ws count used title</th>\n",
       "    </tr>\n",
       "    <tr>\n",
       "        <td style=\"padding-left: 1em; padding-right: 1em; text-align: center; vertical-align: top\">0</td>\n",
       "    </tr>\n",
       "    <tr>\n",
       "        <td style=\"padding-left: 1em; padding-right: 1em; text-align: center; vertical-align: top\">0</td>\n",
       "    </tr>\n",
       "    <tr>\n",
       "        <td style=\"padding-left: 1em; padding-right: 1em; text-align: center; vertical-align: top\">0</td>\n",
       "    </tr>\n",
       "    <tr>\n",
       "        <td style=\"padding-left: 1em; padding-right: 1em; text-align: center; vertical-align: top\">0</td>\n",
       "    </tr>\n",
       "    <tr>\n",
       "        <td style=\"padding-left: 1em; padding-right: 1em; text-align: center; vertical-align: top\">0</td>\n",
       "    </tr>\n",
       "    <tr>\n",
       "        <td style=\"padding-left: 1em; padding-right: 1em; text-align: center; vertical-align: top\">0</td>\n",
       "    </tr>\n",
       "    <tr>\n",
       "        <td style=\"padding-left: 1em; padding-right: 1em; text-align: center; vertical-align: top\">0</td>\n",
       "    </tr>\n",
       "    <tr>\n",
       "        <td style=\"padding-left: 1em; padding-right: 1em; text-align: center; vertical-align: top\">0</td>\n",
       "    </tr>\n",
       "    <tr>\n",
       "        <td style=\"padding-left: 1em; padding-right: 1em; text-align: center; vertical-align: top\">0</td>\n",
       "    </tr>\n",
       "    <tr>\n",
       "        <td style=\"padding-left: 1em; padding-right: 1em; text-align: center; vertical-align: top\">0</td>\n",
       "    </tr>\n",
       "</table>\n",
       "[19125 rows x 7 columns]<br/>Note: Only the head of the SFrame is printed.<br/>You can use print_rows(num_rows=m, num_columns=n) to print more rows and columns.\n",
       "</div>"
      ],
      "text/plain": [
       "Columns:\n",
       "\tdiff desc\tlist\n",
       "\tdiff title\tlist\n",
       "\tpuid\tint\n",
       "\tsearch term\tstr\n",
       "\tws count\tint\n",
       "\tws count used desc\tint\n",
       "\tws count used title\tint\n",
       "\n",
       "Rows: 19125\n",
       "\n",
       "Data:\n",
       "+---------------------------+---------------------------+--------+\n",
       "|         diff desc         |         diff title        |  puid  |\n",
       "+---------------------------+---------------------------+--------+\n",
       "|     [recycling, bins]     |     [recycling, bins]     | 145727 |\n",
       "|        [over, deck]       |        [over, deck]       | 100002 |\n",
       "| [hammer, electric, drill] | [hammer, electric, drill] | 120061 |\n",
       "|        [microwaves]       |        [microwaves]       | 100006 |\n",
       "|         [plywoods]        |         [plywoods]        | 119996 |\n",
       "|        [coca, cola]       |        [coca, cola]       | 120276 |\n",
       "|       [greenhouses]       |       [greenhouses]       | 120318 |\n",
       "|      [pipe, cutters]      |      [pipe, cutters]      | 119840 |\n",
       "|   [buit, themostat, in]   |   [buit, themostat, in]   | 206359 |\n",
       "|     [mowers, ridding]     |     [mowers, ridding]     | 120366 |\n",
       "+---------------------------+---------------------------+--------+\n",
       "+-----------------------+----------+--------------------+---------------------+\n",
       "|      search term      | ws count | ws count used desc | ws count used title |\n",
       "+-----------------------+----------+--------------------+---------------------+\n",
       "|     recycling bins    |    2     |         0          |          0          |\n",
       "|       deck over       |    2     |         0          |          0          |\n",
       "| electric hammer drill |    3     |         0          |          0          |\n",
       "|       microwaves      |    1     |         0          |          0          |\n",
       "|        plywoods       |    1     |         0          |          0          |\n",
       "|       coca cola       |    2     |         0          |          0          |\n",
       "|      greenhouses      |    1     |         0          |          0          |\n",
       "|      pipe cutters     |    2     |         0          |          0          |\n",
       "|   buit in themostat   |    3     |         0          |          0          |\n",
       "|     ridding mowers    |    2     |         0          |          0          |\n",
       "+-----------------------+----------+--------------------+---------------------+\n",
       "[19125 rows x 7 columns]\n",
       "Note: Only the head of the SFrame is printed.\n",
       "You can use print_rows(num_rows=m, num_columns=n) to print more rows and columns."
      ]
     },
     "execution_count": 12,
     "metadata": {},
     "output_type": "execute_result"
    }
   ],
   "source": [
    "differences.sort(['ws count used desc', 'ws count used title'])"
   ]
  },
  {
   "cell_type": "code",
   "execution_count": 13,
   "metadata": {
    "collapsed": false
   },
   "outputs": [
    {
     "name": "stdout",
     "output_type": "stream",
     "text": [
      "No terms used in description : 2666\n",
      "No terms used in title : 2152\n",
      "No terms used in description and title : 1206\n"
     ]
    }
   ],
   "source": [
    "print \"No terms used in description : \" + str(len(differences[differences['ws count used desc'] == 0]))\n",
    "print \"No terms used in title : \" + str(len(differences[differences['ws count used title'] == 0]))\n",
    "print \"No terms used in description and title : \" + str(len(differences[(differences['ws count used desc'] == 0) & \n",
    "                                                                        (differences['ws count used title'] == 0)]))"
   ]
  },
  {
   "cell_type": "code",
   "execution_count": 14,
   "metadata": {
    "collapsed": true
   },
   "outputs": [],
   "source": [
    "import matplotlib.pyplot as plt\n",
    "%matplotlib inline"
   ]
  },
  {
   "cell_type": "markdown",
   "metadata": {},
   "source": [
    "### TF-IDF with linear regression"
   ]
  },
  {
   "cell_type": "code",
   "execution_count": 15,
   "metadata": {
    "collapsed": false
   },
   "outputs": [],
   "source": [
    "train_search_tfidf = gl.text_analytics.tf_idf(train['search_term_word_count'])"
   ]
  },
  {
   "cell_type": "code",
   "execution_count": 16,
   "metadata": {
    "collapsed": false
   },
   "outputs": [],
   "source": [
    "train['search_tfidf'] = train_search_tfidf"
   ]
  },
  {
   "cell_type": "code",
   "execution_count": 17,
   "metadata": {
    "collapsed": false
   },
   "outputs": [],
   "source": [
    "train['product_desc_word_count'] = gl.text_analytics.count_words(train['product_description'])\n",
    "train_desc_tfidf = gl.text_analytics.tf_idf(train['product_desc_word_count'])"
   ]
  },
  {
   "cell_type": "code",
   "execution_count": 18,
   "metadata": {
    "collapsed": true
   },
   "outputs": [],
   "source": [
    "train['desc_tfidf'] = train_desc_tfidf"
   ]
  },
  {
   "cell_type": "code",
   "execution_count": 19,
   "metadata": {
    "collapsed": false
   },
   "outputs": [],
   "source": [
    "train['product_title_word_count'] = gl.text_analytics.count_words(train['product_title'])\n",
    "train_title_tfidf = gl.text_analytics.tf_idf(train['product_title_word_count'])\n",
    "train['title_tfidf'] = train_title_tfidf"
   ]
  },
  {
   "cell_type": "code",
   "execution_count": 20,
   "metadata": {
    "collapsed": false
   },
   "outputs": [],
   "source": [
    "train['distance_desc'] = train.apply(lambda x: gl.distances.cosine(x['search_tfidf'],x['desc_tfidf']))\n",
    "train['distance_desc_sqrt'] = train['distance_desc'] ** 2\n",
    "train['distance_title'] = train.apply(lambda x: gl.distances.cosine(x['search_tfidf'],x['title_tfidf']))\n",
    "train['distance_title_sqrt'] = train['distance_title'] ** 3"
   ]
  },
  {
   "cell_type": "code",
   "execution_count": 21,
   "metadata": {
    "collapsed": false
   },
   "outputs": [
    {
     "name": "stdout",
     "output_type": "stream",
     "text": [
      "PROGRESS: Linear regression:\n",
      "PROGRESS: --------------------------------------------------------\n",
      "PROGRESS: Number of examples          : 74067\n",
      "PROGRESS: Number of features          : 4\n",
      "PROGRESS: Number of unpacked features : 4\n",
      "PROGRESS: Number of coefficients    : 5\n",
      "PROGRESS: Starting Newton Method\n",
      "PROGRESS: --------------------------------------------------------\n",
      "PROGRESS: +-----------+----------+--------------+--------------------+---------------+\n",
      "PROGRESS: | Iteration | Passes   | Elapsed Time | Training-max_error | Training-rmse |\n",
      "PROGRESS: +-----------+----------+--------------+--------------------+---------------+\n",
      "PROGRESS: | 1         | 2        | 1.045566     | 1.754684           | 0.509505      |\n",
      "PROGRESS: +-----------+----------+--------------+--------------------+---------------+\n",
      "PROGRESS: SUCCESS: Optimal solution found.\n",
      "PROGRESS:\n"
     ]
    }
   ],
   "source": [
    "model1 = gl.linear_regression.create(train, target = 'relevance', \n",
    "                                         features = ['distance_desc', 'distance_desc_sqrt', 'distance_title', 'distance_title_sqrt'], \n",
    "                                         validation_set = None)"
   ]
  },
  {
   "cell_type": "code",
   "execution_count": 22,
   "metadata": {
    "collapsed": false
   },
   "outputs": [
    {
     "data": {
      "text/html": [
       "<div style=\"max-height:1000px;max-width:1500px;overflow:auto;\"><table frame=\"box\" rules=\"cols\">\n",
       "    <tr>\n",
       "        <th style=\"padding-left: 1em; padding-right: 1em; text-align: center\">name</th>\n",
       "        <th style=\"padding-left: 1em; padding-right: 1em; text-align: center\">index</th>\n",
       "        <th style=\"padding-left: 1em; padding-right: 1em; text-align: center\">value</th>\n",
       "        <th style=\"padding-left: 1em; padding-right: 1em; text-align: center\">stderr</th>\n",
       "    </tr>\n",
       "    <tr>\n",
       "        <td style=\"padding-left: 1em; padding-right: 1em; text-align: center; vertical-align: top\">(intercept)</td>\n",
       "        <td style=\"padding-left: 1em; padding-right: 1em; text-align: center; vertical-align: top\">None</td>\n",
       "        <td style=\"padding-left: 1em; padding-right: 1em; text-align: center; vertical-align: top\">2.53757638531</td>\n",
       "        <td style=\"padding-left: 1em; padding-right: 1em; text-align: center; vertical-align: top\">0.0658468389666</td>\n",
       "    </tr>\n",
       "    <tr>\n",
       "        <td style=\"padding-left: 1em; padding-right: 1em; text-align: center; vertical-align: top\">distance_desc</td>\n",
       "        <td style=\"padding-left: 1em; padding-right: 1em; text-align: center; vertical-align: top\">None</td>\n",
       "        <td style=\"padding-left: 1em; padding-right: 1em; text-align: center; vertical-align: top\">1.80762596819</td>\n",
       "        <td style=\"padding-left: 1em; padding-right: 1em; text-align: center; vertical-align: top\">0.169354041006</td>\n",
       "    </tr>\n",
       "    <tr>\n",
       "        <td style=\"padding-left: 1em; padding-right: 1em; text-align: center; vertical-align: top\">distance_desc_sqrt</td>\n",
       "        <td style=\"padding-left: 1em; padding-right: 1em; text-align: center; vertical-align: top\">None</td>\n",
       "        <td style=\"padding-left: 1em; padding-right: 1em; text-align: center; vertical-align: top\">-1.42719146154</td>\n",
       "        <td style=\"padding-left: 1em; padding-right: 1em; text-align: center; vertical-align: top\">0.104718192476</td>\n",
       "    </tr>\n",
       "    <tr>\n",
       "        <td style=\"padding-left: 1em; padding-right: 1em; text-align: center; vertical-align: top\">distance_title</td>\n",
       "        <td style=\"padding-left: 1em; padding-right: 1em; text-align: center; vertical-align: top\">None</td>\n",
       "        <td style=\"padding-left: 1em; padding-right: 1em; text-align: center; vertical-align: top\">-0.93309498412</td>\n",
       "        <td style=\"padding-left: 1em; padding-right: 1em; text-align: center; vertical-align: top\">0.0420113779652</td>\n",
       "    </tr>\n",
       "    <tr>\n",
       "        <td style=\"padding-left: 1em; padding-right: 1em; text-align: center; vertical-align: top\">distance_title_sqrt</td>\n",
       "        <td style=\"padding-left: 1em; padding-right: 1em; text-align: center; vertical-align: top\">None</td>\n",
       "        <td style=\"padding-left: 1em; padding-right: 1em; text-align: center; vertical-align: top\">0.170496189237</td>\n",
       "        <td style=\"padding-left: 1em; padding-right: 1em; text-align: center; vertical-align: top\">0.025047571535</td>\n",
       "    </tr>\n",
       "</table>\n",
       "[5 rows x 4 columns]<br/>\n",
       "</div>"
      ],
      "text/plain": [
       "Columns:\n",
       "\tname\tstr\n",
       "\tindex\tstr\n",
       "\tvalue\tfloat\n",
       "\tstderr\tfloat\n",
       "\n",
       "Rows: 5\n",
       "\n",
       "Data:\n",
       "+---------------------+-------+----------------+-----------------+\n",
       "|         name        | index |     value      |      stderr     |\n",
       "+---------------------+-------+----------------+-----------------+\n",
       "|     (intercept)     |  None | 2.53757638531  | 0.0658468389666 |\n",
       "|    distance_desc    |  None | 1.80762596819  |  0.169354041006 |\n",
       "|  distance_desc_sqrt |  None | -1.42719146154 |  0.104718192476 |\n",
       "|    distance_title   |  None | -0.93309498412 | 0.0420113779652 |\n",
       "| distance_title_sqrt |  None | 0.170496189237 |  0.025047571535 |\n",
       "+---------------------+-------+----------------+-----------------+\n",
       "[5 rows x 4 columns]"
      ]
     },
     "execution_count": 22,
     "metadata": {},
     "output_type": "execute_result"
    }
   ],
   "source": [
    "#let's take a look at the weights before we plot\n",
    "model1.get(\"coefficients\")"
   ]
  },
  {
   "cell_type": "code",
   "execution_count": 23,
   "metadata": {
    "collapsed": true
   },
   "outputs": [],
   "source": [
    "test['search_term_word_count'] = gl.text_analytics.count_words(test['search_term'])\n",
    "test_search_tfidf = gl.text_analytics.tf_idf(test['search_term_word_count'])\n",
    "test['search_tfidf'] = test_search_tfidf\n",
    "test['product_desc_word_count'] = gl.text_analytics.count_words(test['product_description'])\n",
    "test_desc_tfidf = gl.text_analytics.tf_idf(test['product_desc_word_count'])\n",
    "test['desc_tfidf'] = test_desc_tfidf\n",
    "test['product_title_word_count'] = gl.text_analytics.count_words(test['product_title'])\n",
    "test_title_tfidf = gl.text_analytics.tf_idf(test['product_title_word_count'])\n",
    "test['title_tfidf'] = test_title_tfidf\n",
    "\n",
    "test['distance_desc'] = test.apply(lambda x: gl.distances.cosine(x['search_tfidf'],x['desc_tfidf']))\n",
    "test['distance_desc_sqrt'] = test['distance_desc'] ** 2\n",
    "test['distance_title'] = test.apply(lambda x: gl.distances.cosine(x['search_tfidf'],x['title_tfidf']))\n",
    "test['distance_title_sqrt'] = test['distance_title'] ** 3"
   ]
  },
  {
   "cell_type": "code",
   "execution_count": 24,
   "metadata": {
    "collapsed": false
   },
   "outputs": [
    {
     "data": {
      "text/plain": [
       "\"\\npredictions_test = model1.predict(test)\\ntest_errors = predictions_test - test['relevance']\\nRSS_test = sum(test_errors * test_errors)\\nprint RSS_test\\n\""
      ]
     },
     "execution_count": 24,
     "metadata": {},
     "output_type": "execute_result"
    }
   ],
   "source": [
    "'''\n",
    "predictions_test = model1.predict(test)\n",
    "test_errors = predictions_test - test['relevance']\n",
    "RSS_test = sum(test_errors * test_errors)\n",
    "print RSS_test\n",
    "'''"
   ]
  },
  {
   "cell_type": "code",
   "execution_count": 25,
   "metadata": {
    "collapsed": false
   },
   "outputs": [
    {
     "data": {
      "text/plain": [
       "dtype: float\n",
       "Rows: 166693\n",
       "[2.199192361518506, 2.1554120970764274, 2.3493517485733406, 2.3541822792039477, 2.313897641296237, 2.1554120970764274, 2.3777272648703045, 2.386769665285134, 2.183135953769775, 2.6506602777391195, 2.5108080126720074, 2.396619471680039, 2.5046996384663696, 2.3343196365927374, 2.2415627071801802, 2.4471028886950865, 2.1554120970764274, 2.4948525445256777, 2.2110612681180215, 2.2696507298175015, 2.688643049230895, 2.595215641273066, 2.225188575392107, 2.3908436769509738, 2.1554120970764274, 2.3000724771559944, 2.1554120970764274, 2.374087054859538, 2.2756016442054774, 2.35964405581698, 2.519301460479922, 2.415486507452863, 2.2697683214326454, 2.3884126045344267, 2.250411773743458, 2.1554120970764274, 2.2714197565820995, 2.2071881132454934, 2.684611941462438, 2.589197435706547, 2.1985125186230863, 2.3432345144738527, 2.2742884640490084, 2.1554120970764274, 2.5023523052781433, 2.4254295602988183, 2.472238345284125, 2.4579697258335824, 2.6624497149352377, 2.3071727370966055, 2.171285261997244, 2.1554120970764274, 2.2118363611833973, 2.1554120970764274, 2.1554120970764274, 2.1554120970764274, 2.1554120970764274, 2.1554120970764274, 2.156321907727969, 2.1554120970764274, 2.1554120970764274, 2.2200277761564955, 2.2205502272570956, 2.1554120970764274, 2.276801999101142, 2.558194941979415, 2.2793062514827525, 2.1554120970764274, 2.1554120970764274, 2.1554120970764274, 2.1554120970764274, 2.1554120970764274, 2.1554120970764274, 2.3371723444417563, 2.1554120970764274, 2.5700328262567615, 2.4781241372985554, 2.1554120970764274, 2.1554120970764274, 2.1554120970764274, 2.1554120970764274, 2.368757077875661, 2.285610235739125, 2.362378885239782, 2.2603364117147864, 2.277277719780522, 2.378809210255706, 2.404122589296861, 2.502700257020424, 2.421247701172768, 2.6014621667910323, 2.3960636799507347, 2.1554120970764274, 2.6020557101484014, 2.382242000261744, 2.2655966364466122, 2.2425641486327663, 2.477309247349945, 2.3093226004867144, 2.2926595720344842, ... ]"
      ]
     },
     "execution_count": 25,
     "metadata": {},
     "output_type": "execute_result"
    }
   ],
   "source": [
    "predictions_test = model1.predict(test)\n",
    "predictions_test"
   ]
  },
  {
   "cell_type": "code",
   "execution_count": 26,
   "metadata": {
    "collapsed": true
   },
   "outputs": [],
   "source": [
    "submission = gl.SFrame(test['id'])"
   ]
  },
  {
   "cell_type": "code",
   "execution_count": 27,
   "metadata": {
    "collapsed": false
   },
   "outputs": [
    {
     "data": {
      "text/html": [
       "<div style=\"max-height:1000px;max-width:1500px;overflow:auto;\"><table frame=\"box\" rules=\"cols\">\n",
       "    <tr>\n",
       "        <th style=\"padding-left: 1em; padding-right: 1em; text-align: center\">id</th>\n",
       "        <th style=\"padding-left: 1em; padding-right: 1em; text-align: center\">relevance</th>\n",
       "    </tr>\n",
       "    <tr>\n",
       "        <td style=\"padding-left: 1em; padding-right: 1em; text-align: center; vertical-align: top\">1</td>\n",
       "        <td style=\"padding-left: 1em; padding-right: 1em; text-align: center; vertical-align: top\">2.19919236152</td>\n",
       "    </tr>\n",
       "    <tr>\n",
       "        <td style=\"padding-left: 1em; padding-right: 1em; text-align: center; vertical-align: top\">4</td>\n",
       "        <td style=\"padding-left: 1em; padding-right: 1em; text-align: center; vertical-align: top\">2.15541209708</td>\n",
       "    </tr>\n",
       "    <tr>\n",
       "        <td style=\"padding-left: 1em; padding-right: 1em; text-align: center; vertical-align: top\">5</td>\n",
       "        <td style=\"padding-left: 1em; padding-right: 1em; text-align: center; vertical-align: top\">2.34935174857</td>\n",
       "    </tr>\n",
       "    <tr>\n",
       "        <td style=\"padding-left: 1em; padding-right: 1em; text-align: center; vertical-align: top\">6</td>\n",
       "        <td style=\"padding-left: 1em; padding-right: 1em; text-align: center; vertical-align: top\">2.3541822792</td>\n",
       "    </tr>\n",
       "    <tr>\n",
       "        <td style=\"padding-left: 1em; padding-right: 1em; text-align: center; vertical-align: top\">7</td>\n",
       "        <td style=\"padding-left: 1em; padding-right: 1em; text-align: center; vertical-align: top\">2.3138976413</td>\n",
       "    </tr>\n",
       "    <tr>\n",
       "        <td style=\"padding-left: 1em; padding-right: 1em; text-align: center; vertical-align: top\">8</td>\n",
       "        <td style=\"padding-left: 1em; padding-right: 1em; text-align: center; vertical-align: top\">2.15541209708</td>\n",
       "    </tr>\n",
       "    <tr>\n",
       "        <td style=\"padding-left: 1em; padding-right: 1em; text-align: center; vertical-align: top\">10</td>\n",
       "        <td style=\"padding-left: 1em; padding-right: 1em; text-align: center; vertical-align: top\">2.37772726487</td>\n",
       "    </tr>\n",
       "    <tr>\n",
       "        <td style=\"padding-left: 1em; padding-right: 1em; text-align: center; vertical-align: top\">11</td>\n",
       "        <td style=\"padding-left: 1em; padding-right: 1em; text-align: center; vertical-align: top\">2.38676966529</td>\n",
       "    </tr>\n",
       "    <tr>\n",
       "        <td style=\"padding-left: 1em; padding-right: 1em; text-align: center; vertical-align: top\">12</td>\n",
       "        <td style=\"padding-left: 1em; padding-right: 1em; text-align: center; vertical-align: top\">2.18313595377</td>\n",
       "    </tr>\n",
       "    <tr>\n",
       "        <td style=\"padding-left: 1em; padding-right: 1em; text-align: center; vertical-align: top\">13</td>\n",
       "        <td style=\"padding-left: 1em; padding-right: 1em; text-align: center; vertical-align: top\">2.65066027774</td>\n",
       "    </tr>\n",
       "</table>\n",
       "[166693 rows x 2 columns]<br/>Note: Only the head of the SFrame is printed.<br/>You can use print_rows(num_rows=m, num_columns=n) to print more rows and columns.\n",
       "</div>"
      ],
      "text/plain": [
       "Columns:\n",
       "\tid\tint\n",
       "\trelevance\tfloat\n",
       "\n",
       "Rows: 166693\n",
       "\n",
       "Data:\n",
       "+----+---------------+\n",
       "| id |   relevance   |\n",
       "+----+---------------+\n",
       "| 1  | 2.19919236152 |\n",
       "| 4  | 2.15541209708 |\n",
       "| 5  | 2.34935174857 |\n",
       "| 6  |  2.3541822792 |\n",
       "| 7  |  2.3138976413 |\n",
       "| 8  | 2.15541209708 |\n",
       "| 10 | 2.37772726487 |\n",
       "| 11 | 2.38676966529 |\n",
       "| 12 | 2.18313595377 |\n",
       "| 13 | 2.65066027774 |\n",
       "+----+---------------+\n",
       "[166693 rows x 2 columns]\n",
       "Note: Only the head of the SFrame is printed.\n",
       "You can use print_rows(num_rows=m, num_columns=n) to print more rows and columns."
      ]
     },
     "execution_count": 27,
     "metadata": {},
     "output_type": "execute_result"
    }
   ],
   "source": [
    "submission.add_column(predictions_test)\n",
    "submission.rename({'X1': 'id', 'X2':'relevance'})"
   ]
  },
  {
   "cell_type": "code",
   "execution_count": 28,
   "metadata": {
    "collapsed": false
   },
   "outputs": [],
   "source": [
    "submission['relevance'] = submission.apply(lambda x: 3.0 if x['relevance'] > 3.0 else x['relevance'])\n",
    "submission['relevance'] = submission.apply(lambda x: 1.0 if x['relevance'] < 1.0 else x['relevance'])"
   ]
  },
  {
   "cell_type": "code",
   "execution_count": 29,
   "metadata": {
    "collapsed": false
   },
   "outputs": [],
   "source": [
    "submission['relevance'] = submission.apply(lambda x: str(x['relevance']))"
   ]
  },
  {
   "cell_type": "code",
   "execution_count": 30,
   "metadata": {
    "collapsed": false
   },
   "outputs": [],
   "source": [
    "submission.export_csv('../data/submission2.csv', quote_level = 3)"
   ]
  },
  {
   "cell_type": "code",
   "execution_count": null,
   "metadata": {
    "collapsed": true
   },
   "outputs": [],
   "source": [
    "#gl.canvas.set_target('ipynb')"
   ]
  }
 ],
 "metadata": {
  "kernelspec": {
   "display_name": "Python 2",
   "language": "python",
   "name": "python2"
  },
  "language_info": {
   "codemirror_mode": {
    "name": "ipython",
    "version": 2
   },
   "file_extension": ".py",
   "mimetype": "text/x-python",
   "name": "python",
   "nbconvert_exporter": "python",
   "pygments_lexer": "ipython2",
   "version": "2.7.10"
  }
 },
 "nbformat": 4,
 "nbformat_minor": 0
}
