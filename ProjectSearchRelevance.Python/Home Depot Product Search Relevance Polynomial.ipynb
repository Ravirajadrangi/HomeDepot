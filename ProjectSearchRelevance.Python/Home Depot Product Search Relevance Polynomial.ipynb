{
 "cells": [
  {
   "cell_type": "markdown",
   "metadata": {},
   "source": [
    "# Home Depot Product Search Relevance\n",
    "The challenge is to predict a relevance score for the provided combinations of search terms and products. To create the ground truth labels, Home Depot has crowdsourced the search/product pairs to multiple human raters."
   ]
  },
  {
   "cell_type": "markdown",
   "metadata": {},
   "source": [
    "## LabGraph Create\n",
    "This notebook uses the LabGraph create machine learning iPython module. You need a personal licence to run this code."
   ]
  },
  {
   "cell_type": "code",
   "execution_count": 36,
   "metadata": {
    "collapsed": false
   },
   "outputs": [],
   "source": [
    "import graphlab as gl\n",
    "from nltk.stem import *"
   ]
  },
  {
   "cell_type": "markdown",
   "metadata": {},
   "source": [
    "### Load data from CSV files"
   ]
  },
  {
   "cell_type": "code",
   "execution_count": 2,
   "metadata": {
    "collapsed": false
   },
   "outputs": [
    {
     "name": "stderr",
     "output_type": "stream",
     "text": [
      "[INFO] This non-commercial license of GraphLab Create is assigned to thomasv1000@hotmail.fr and will expire on October 12, 2016. For commercial licensing options, visit https://dato.com/buy/.\n",
      "\n",
      "[INFO] Start server at: ipc:///tmp/graphlab_server-3252 - Server binary: C:\\Users\\T.Jaskula\\AppData\\Local\\Continuum\\Anaconda2\\lib\\site-packages\\graphlab\\unity_server.exe - Server log: C:\\Users\\T9773~1.JAS\\AppData\\Local\\Temp\\graphlab_server_1455037187.log.0\n",
      "[INFO] GraphLab Server Version: 1.8.1\n"
     ]
    },
    {
     "name": "stdout",
     "output_type": "stream",
     "text": [
      "PROGRESS: Finished parsing file C:\\Users\\T.Jaskula\\Python\\HomeDepot\\data\\train.csv\n",
      "PROGRESS: Parsing completed. Parsed 100 lines in 0.081008 secs.\n",
      "------------------------------------------------------\n",
      "Inferred types from first line of file as \n",
      "column_type_hints=[long,long,str,str,float]\n",
      "If parsing fails due to incorrect types, you can correct\n",
      "the inferred type list above and pass it to read_csv in\n",
      "the column_type_hints argument\n",
      "------------------------------------------------------\n",
      "PROGRESS: Finished parsing file C:\\Users\\T.Jaskula\\Python\\HomeDepot\\data\\train.csv\n",
      "PROGRESS: Parsing completed. Parsed 74067 lines in 0.094009 secs.\n"
     ]
    }
   ],
   "source": [
    "train = gl.SFrame.read_csv(\"../data/train.csv\")"
   ]
  },
  {
   "cell_type": "code",
   "execution_count": 3,
   "metadata": {
    "collapsed": false
   },
   "outputs": [
    {
     "name": "stdout",
     "output_type": "stream",
     "text": [
      "PROGRESS: Finished parsing file C:\\Users\\T.Jaskula\\Python\\HomeDepot\\data\\test.csv\n",
      "PROGRESS: Parsing completed. Parsed 100 lines in 0.451045 secs.\n",
      "------------------------------------------------------\n",
      "Inferred types from first line of file as \n",
      "column_type_hints=[long,long,str,str]\n",
      "If parsing fails due to incorrect types, you can correct\n",
      "the inferred type list above and pass it to read_csv in\n",
      "the column_type_hints argument\n",
      "------------------------------------------------------\n",
      "PROGRESS: Finished parsing file C:\\Users\\T.Jaskula\\Python\\HomeDepot\\data\\test.csv\n",
      "PROGRESS: Parsing completed. Parsed 166693 lines in 0.180018 secs.\n"
     ]
    }
   ],
   "source": [
    "test = gl.SFrame.read_csv(\"../data/test.csv\")"
   ]
  },
  {
   "cell_type": "code",
   "execution_count": 4,
   "metadata": {
    "collapsed": false
   },
   "outputs": [
    {
     "name": "stdout",
     "output_type": "stream",
     "text": [
      "PROGRESS: Finished parsing file C:\\Users\\T.Jaskula\\Python\\HomeDepot\\data\\product_descriptions.csv\n",
      "PROGRESS: Parsing completed. Parsed 100 lines in 0.825083 secs.\n",
      "------------------------------------------------------\n",
      "Inferred types from first line of file as \n",
      "column_type_hints=[long,str]\n",
      "If parsing fails due to incorrect types, you can correct\n",
      "the inferred type list above and pass it to read_csv in\n",
      "the column_type_hints argument\n",
      "------------------------------------------------------\n",
      "PROGRESS: Read 61134 lines. Lines per second: 60763.3\n",
      "PROGRESS: Finished parsing file C:\\Users\\T.Jaskula\\Python\\HomeDepot\\data\\product_descriptions.csv\n",
      "PROGRESS: Parsing completed. Parsed 124428 lines in 1.24513 secs.\n"
     ]
    }
   ],
   "source": [
    "desc = gl.SFrame.read_csv(\"../data/product_descriptions.csv\")"
   ]
  },
  {
   "cell_type": "markdown",
   "metadata": {},
   "source": [
    "### Data merging"
   ]
  },
  {
   "cell_type": "code",
   "execution_count": 5,
   "metadata": {
    "collapsed": true
   },
   "outputs": [],
   "source": [
    "# merge train with description\n",
    "train = train.join(desc, on = 'product_uid', how = 'left')"
   ]
  },
  {
   "cell_type": "code",
   "execution_count": 6,
   "metadata": {
    "collapsed": false
   },
   "outputs": [],
   "source": [
    "# merge test with description\n",
    "test = test.join(desc, on = 'product_uid', how = 'left')"
   ]
  },
  {
   "cell_type": "markdown",
   "metadata": {
    "collapsed": true
   },
   "source": [
    "### Let's explore some data"
   ]
  },
  {
   "cell_type": "markdown",
   "metadata": {
    "collapsed": false
   },
   "source": [
    "Let's examine 3 different queries and products:\n",
    "* first from the training set\n",
    "* somewhere in the moddle in the training set\n",
    "* the last one from the training set"
   ]
  },
  {
   "cell_type": "code",
   "execution_count": 7,
   "metadata": {
    "collapsed": false
   },
   "outputs": [
    {
     "data": {
      "text/plain": [
       "{'id': 2L,\n",
       " 'product_description': 'Not only do angles make joints stronger, they also provide more consistent, straight corners. Simpson Strong-Tie offers a wide variety of angles in various sizes and thicknesses to handle light-duty jobs or projects where a structural connection is needed. Some can be bent (skewed) to match the project. For outdoor projects or those where moisture is present, use our ZMAX zinc-coated connectors, which provide extra resistance against corrosion (look for a \"Z\" at the end of the model number).Versatile connector for various 90 connections and home repair projectsStronger than angled nailing or screw fastening aloneHelp ensure joints are consistently straight and strongDimensions: 3 in. x 3 in. x 1-1/2 in.Made from 12-Gauge steelGalvanized for extra corrosion resistanceInstall with 10d common nails or #9 x 1-1/2 in. Strong-Drive SD screws',\n",
       " 'product_title': 'Simpson Strong-Tie 12-Gauge Angle',\n",
       " 'product_uid': 100001L,\n",
       " 'relevance': 3.0,\n",
       " 'search_term': 'angle bracket'}"
      ]
     },
     "execution_count": 7,
     "metadata": {},
     "output_type": "execute_result"
    }
   ],
   "source": [
    "first_doc = train[0]\n",
    "first_doc"
   ]
  },
  {
   "cell_type": "markdown",
   "metadata": {},
   "source": [
    "**'angle bracket'** search term is not contained in the body. **'angle'** would be after stemming however **'bracket'** is not."
   ]
  },
  {
   "cell_type": "code",
   "execution_count": 8,
   "metadata": {
    "collapsed": false
   },
   "outputs": [
    {
     "data": {
      "text/plain": [
       "{'id': 113228L,\n",
       " 'product_description': 'PureBond Plywood Project Panels are a convenient and cost-effective way to build cabinets, furniture and other woodworking projects. It provides a beautiful wood veneer face bonded to a strong and flat wood core. These PureBond Project Panels are made with no added formaldehyde, eliminating the concern about off-gassing dangerous fumes during fabrication or when installed in your home. Their smaller size makes them easy to handle and allows you to order just the amount of wood you need. PureBond plywood, in Project Panels sizes or in full sheet sizes, are a Home Depot exclusive.California residents: see&nbsp;Proposition 65 informationDecorative mahogany veneer applied to both sides of this panelB-2 plain sliced mahogany - 7-ply constructionLight weight, all-wood veneer constructionPrecision-cut hardwood plywood panels in convenient small sizesCommon: 3/4 in. x 2 ft. x 4 ft.; Actual: 0.703 in. x 24 in. x 48 in.Grade: B-2',\n",
       " 'product_title': '3/4 in. x 2 ft. x 4 ft. PureBond Mahogany Plywood Project Panel',\n",
       " 'product_uid': 137334L,\n",
       " 'relevance': 3.0,\n",
       " 'search_term': 'table top wood'}"
      ]
     },
     "execution_count": 8,
     "metadata": {},
     "output_type": "execute_result"
    }
   ],
   "source": [
    "middle_doc = train[37033]\n",
    "middle_doc"
   ]
  },
  {
   "cell_type": "markdown",
   "metadata": {},
   "source": [
    "only **'wood'** is present from search term"
   ]
  },
  {
   "cell_type": "code",
   "execution_count": 9,
   "metadata": {
    "collapsed": false
   },
   "outputs": [
    {
     "data": {
      "text/plain": [
       "{'id': 221473L,\n",
       " 'product_description': 'No. 918 Millennial Ryan heathered texture semi-sheer curtain is a casual solid that adds freshness and a finishing touch to any decor setting. Enhances privacy while allowing light to gently filter through. Clean, simple one-pocket pole top design can be used with a standard or decorative curtain rod. Mix and match with other solids and prints for a look that is all your own.Sheer panel, gently filters lightNo header pole top panelMachine washableWide array of colors to choose from100% polyesterContains 1-curtain panel',\n",
       " 'product_title': 'LICHTENBERG Pool Blue No. 918 Millennial Ryan Heathered Texture Sheer Curtain Panel, 40 in. W x 63 in. L',\n",
       " 'product_uid': 206650L,\n",
       " 'relevance': 2.33,\n",
       " 'search_term': 'fine sheer curtain 63 inches'}"
      ]
     },
     "execution_count": 9,
     "metadata": {},
     "output_type": "execute_result"
    }
   ],
   "source": [
    "last_doc = train[-1]\n",
    "last_doc"
   ]
  },
  {
   "cell_type": "markdown",
   "metadata": {},
   "source": [
    "**'sheer'** and **'courtain'** are present and that's all"
   ]
  },
  {
   "cell_type": "markdown",
   "metadata": {},
   "source": [
    "### How many search terms are not present in description and title for ranked 3 documents\n",
    "Ranked 3 documents are the most relevents searches, but how many search queries doesn't include the searched term in the description and the title"
   ]
  },
  {
   "cell_type": "code",
   "execution_count": 10,
   "metadata": {
    "collapsed": false
   },
   "outputs": [
    {
     "name": "stdout",
     "output_type": "stream",
     "text": [
      "+-----+-------------+-------------------------------+\n",
      "|  id | product_uid |         product_title         |\n",
      "+-----+-------------+-------------------------------+\n",
      "|  2  |    100001   | Simpson Strong-Tie 12-Gaug... |\n",
      "|  9  |    100002   | BEHR Premium Textured Deck... |\n",
      "|  18 |    100006   | Whirlpool 1.9 cu. ft. Over... |\n",
      "|  21 |    100006   | Whirlpool 1.9 cu. ft. Over... |\n",
      "|  27 |    100009   | House of Fara 3/4 in. x 3 ... |\n",
      "|  35 |    100011   | Toro Personal Pace Recycle... |\n",
      "|  37 |    100011   | Toro Personal Pace Recycle... |\n",
      "|  65 |    100016   | Sunjoy Calais 8 ft. x 5 ft... |\n",
      "| 123 |    100023   | Quikrete 80 lb. Crack-Resi... |\n",
      "| 162 |    100029   | DecoArt Americana Decor 16... |\n",
      "+-----+-------------+-------------------------------+\n",
      "+--------------------------------+-----------+-------------------------------+\n",
      "|          search_term           | relevance |      product_description      |\n",
      "+--------------------------------+-----------+-------------------------------+\n",
      "|         angle bracket          |    3.0    | Not only do angles make jo... |\n",
      "|           deck over            |    3.0    | BEHR Premium Textured DECK... |\n",
      "|         convection otr         |    3.0    | Achieving delicious result... |\n",
      "|           microwaves           |    3.0    | Achieving delicious result... |\n",
      "|            mdf 3/4             |    3.0    | Get the House of Fara 3/4 ... |\n",
      "| briggs and stratton lawn mower |    3.0    | Recycler 22 in. Personal P... |\n",
      "|            gas mowe            |    3.0    | Recycler 22 in. Personal P... |\n",
      "|          grill gazebo          |    3.0    | Make grilling great with t... |\n",
      "| CONCRETE & MASONRY CLEANER...  |    3.0    | Quikrete 80 lb. Crack-Resi... |\n",
      "|          chalk paint           |    3.0    | Achieving a vintage, time-... |\n",
      "+--------------------------------+-----------+-------------------------------+\n",
      "+-------------------------------+\n",
      "|     search_term_word_count    |\n",
      "+-------------------------------+\n",
      "|  {'bracket': 1L, 'angle': 1L} |\n",
      "|    {'over': 1L, 'deck': 1L}   |\n",
      "| {'otr': 1L, 'convection': 1L} |\n",
      "|       {'microwaves': 1L}      |\n",
      "|     {'mdf': 1L, '3/4': 1L}    |\n",
      "| {'and': 1L, 'stratton': 1L... |\n",
      "|    {'gas': 1L, 'mowe': 1L}    |\n",
      "|  {'grill': 1L, 'gazebo': 1L}  |\n",
      "| {'etcher': 1L, 'masonry': ... |\n",
      "|   {'chalk': 1L, 'paint': 1L}  |\n",
      "+-------------------------------+\n",
      "[10 rows x 7 columns]\n",
      "\n"
     ]
    },
    {
     "data": {
      "text/plain": [
       "19125"
      ]
     },
     "execution_count": 10,
     "metadata": {},
     "output_type": "execute_result"
    }
   ],
   "source": [
    "train['search_term_word_count'] = gl.text_analytics.count_words(train['search_term'])\n",
    "ranked3doc = train[train['relevance'] == 3]\n",
    "print ranked3doc.head()\n",
    "len(ranked3doc)"
   ]
  },
  {
   "cell_type": "code",
   "execution_count": 11,
   "metadata": {
    "collapsed": false
   },
   "outputs": [],
   "source": [
    "words_search = gl.text_analytics.tokenize(ranked3doc['search_term'], to_lower = True)\n",
    "words_description = gl.text_analytics.tokenize(ranked3doc['product_description'], to_lower = True)\n",
    "words_title = gl.text_analytics.tokenize(ranked3doc['product_title'], to_lower = True)\n",
    "wordsdiff_desc = []\n",
    "wordsdiff_title = []\n",
    "puid = []\n",
    "search_term = []\n",
    "ws_count = []\n",
    "ws_count_used_desc = []\n",
    "ws_count_used_title = []\n",
    "for item in xrange(len(ranked3doc)):\n",
    "    ws = words_search[item]\n",
    "    pd = words_description[item]\n",
    "    pt = words_title[item]\n",
    "    diff = set(ws) - set(pd)\n",
    "    if diff is None:\n",
    "        diff = 0\n",
    "    wordsdiff_desc.append(diff)\n",
    "    \n",
    "    diff2 = set(ws) - set(pt)\n",
    "    if diff2 is None:\n",
    "        diff2 = 0\n",
    "    wordsdiff_title.append(diff2)\n",
    "    \n",
    "    puid.append(ranked3doc[item]['product_uid'])\n",
    "    search_term.append(ranked3doc[item]['search_term'])\n",
    "    ws_count.append(len(ws))\n",
    "    ws_count_used_desc.append(len(ws) - len(diff))\n",
    "    ws_count_used_title.append(len(ws) - len(diff2))\n",
    "    \n",
    "differences = gl.SFrame({\"puid\" : puid,\n",
    "                         \"search term\": search_term,\n",
    "                         \"diff desc\" : wordsdiff_desc,\n",
    "                         \"diff title\" : wordsdiff_title,\n",
    "                         \"ws count\" : ws_count, \n",
    "                         \"ws count used desc\" : ws_count_used_desc,\n",
    "                         \"ws count used title\" : ws_count_used_title})"
   ]
  },
  {
   "cell_type": "code",
   "execution_count": 12,
   "metadata": {
    "collapsed": false
   },
   "outputs": [
    {
     "data": {
      "text/html": [
       "<div style=\"max-height:1000px;max-width:1500px;overflow:auto;\"><table frame=\"box\" rules=\"cols\">\n",
       "    <tr>\n",
       "        <th style=\"padding-left: 1em; padding-right: 1em; text-align: center\">diff desc</th>\n",
       "        <th style=\"padding-left: 1em; padding-right: 1em; text-align: center\">diff title</th>\n",
       "        <th style=\"padding-left: 1em; padding-right: 1em; text-align: center\">puid</th>\n",
       "        <th style=\"padding-left: 1em; padding-right: 1em; text-align: center\">search term</th>\n",
       "        <th style=\"padding-left: 1em; padding-right: 1em; text-align: center\">ws count</th>\n",
       "        <th style=\"padding-left: 1em; padding-right: 1em; text-align: center\">ws count used desc</th>\n",
       "        <th style=\"padding-left: 1em; padding-right: 1em; text-align: center\">ws count used title</th>\n",
       "    </tr>\n",
       "    <tr>\n",
       "        <td style=\"padding-left: 1em; padding-right: 1em; text-align: center; vertical-align: top\">[concretetile]</td>\n",
       "        <td style=\"padding-left: 1em; padding-right: 1em; text-align: center; vertical-align: top\">[concretetile]</td>\n",
       "        <td style=\"padding-left: 1em; padding-right: 1em; text-align: center; vertical-align: top\">182917</td>\n",
       "        <td style=\"padding-left: 1em; padding-right: 1em; text-align: center; vertical-align: top\">concretetile</td>\n",
       "        <td style=\"padding-left: 1em; padding-right: 1em; text-align: center; vertical-align: top\">1</td>\n",
       "        <td style=\"padding-left: 1em; padding-right: 1em; text-align: center; vertical-align: top\">0</td>\n",
       "        <td style=\"padding-left: 1em; padding-right: 1em; text-align: center; vertical-align: top\">0</td>\n",
       "    </tr>\n",
       "    <tr>\n",
       "        <td style=\"padding-left: 1em; padding-right: 1em; text-align: center; vertical-align: top\">[confrence]</td>\n",
       "        <td style=\"padding-left: 1em; padding-right: 1em; text-align: center; vertical-align: top\">[confrence]</td>\n",
       "        <td style=\"padding-left: 1em; padding-right: 1em; text-align: center; vertical-align: top\">136503</td>\n",
       "        <td style=\"padding-left: 1em; padding-right: 1em; text-align: center; vertical-align: top\">confrence</td>\n",
       "        <td style=\"padding-left: 1em; padding-right: 1em; text-align: center; vertical-align: top\">1</td>\n",
       "        <td style=\"padding-left: 1em; padding-right: 1em; text-align: center; vertical-align: top\">0</td>\n",
       "        <td style=\"padding-left: 1em; padding-right: 1em; text-align: center; vertical-align: top\">0</td>\n",
       "    </tr>\n",
       "    <tr>\n",
       "        <td style=\"padding-left: 1em; padding-right: 1em; text-align: center; vertical-align: top\">[over, berh, deck]</td>\n",
       "        <td style=\"padding-left: 1em; padding-right: 1em; text-align: center; vertical-align: top\">[over, berh, deck]</td>\n",
       "        <td style=\"padding-left: 1em; padding-right: 1em; text-align: center; vertical-align: top\">101795</td>\n",
       "        <td style=\"padding-left: 1em; padding-right: 1em; text-align: center; vertical-align: top\">berh deck over</td>\n",
       "        <td style=\"padding-left: 1em; padding-right: 1em; text-align: center; vertical-align: top\">3</td>\n",
       "        <td style=\"padding-left: 1em; padding-right: 1em; text-align: center; vertical-align: top\">0</td>\n",
       "        <td style=\"padding-left: 1em; padding-right: 1em; text-align: center; vertical-align: top\">0</td>\n",
       "    </tr>\n",
       "    <tr>\n",
       "        <td style=\"padding-left: 1em; padding-right: 1em; text-align: center; vertical-align: top\">[barbque, grills]</td>\n",
       "        <td style=\"padding-left: 1em; padding-right: 1em; text-align: center; vertical-align: top\">[barbque, grills]</td>\n",
       "        <td style=\"padding-left: 1em; padding-right: 1em; text-align: center; vertical-align: top\">116142</td>\n",
       "        <td style=\"padding-left: 1em; padding-right: 1em; text-align: center; vertical-align: top\">barbque grills</td>\n",
       "        <td style=\"padding-left: 1em; padding-right: 1em; text-align: center; vertical-align: top\">2</td>\n",
       "        <td style=\"padding-left: 1em; padding-right: 1em; text-align: center; vertical-align: top\">0</td>\n",
       "        <td style=\"padding-left: 1em; padding-right: 1em; text-align: center; vertical-align: top\">0</td>\n",
       "    </tr>\n",
       "    <tr>\n",
       "        <td style=\"padding-left: 1em; padding-right: 1em; text-align: center; vertical-align: top\">[bearings]</td>\n",
       "        <td style=\"padding-left: 1em; padding-right: 1em; text-align: center; vertical-align: top\">[bearings]</td>\n",
       "        <td style=\"padding-left: 1em; padding-right: 1em; text-align: center; vertical-align: top\">149340</td>\n",
       "        <td style=\"padding-left: 1em; padding-right: 1em; text-align: center; vertical-align: top\">bearings</td>\n",
       "        <td style=\"padding-left: 1em; padding-right: 1em; text-align: center; vertical-align: top\">1</td>\n",
       "        <td style=\"padding-left: 1em; padding-right: 1em; text-align: center; vertical-align: top\">0</td>\n",
       "        <td style=\"padding-left: 1em; padding-right: 1em; text-align: center; vertical-align: top\">0</td>\n",
       "    </tr>\n",
       "    <tr>\n",
       "        <td style=\"padding-left: 1em; padding-right: 1em; text-align: center; vertical-align: top\">[medalion]</td>\n",
       "        <td style=\"padding-left: 1em; padding-right: 1em; text-align: center; vertical-align: top\">[medalion]</td>\n",
       "        <td style=\"padding-left: 1em; padding-right: 1em; text-align: center; vertical-align: top\">136409</td>\n",
       "        <td style=\"padding-left: 1em; padding-right: 1em; text-align: center; vertical-align: top\">medalion</td>\n",
       "        <td style=\"padding-left: 1em; padding-right: 1em; text-align: center; vertical-align: top\">1</td>\n",
       "        <td style=\"padding-left: 1em; padding-right: 1em; text-align: center; vertical-align: top\">0</td>\n",
       "        <td style=\"padding-left: 1em; padding-right: 1em; text-align: center; vertical-align: top\">0</td>\n",
       "    </tr>\n",
       "    <tr>\n",
       "        <td style=\"padding-left: 1em; padding-right: 1em; text-align: center; vertical-align: top\">[wall, coatracks]</td>\n",
       "        <td style=\"padding-left: 1em; padding-right: 1em; text-align: center; vertical-align: top\">[wall, coatracks]</td>\n",
       "        <td style=\"padding-left: 1em; padding-right: 1em; text-align: center; vertical-align: top\">136407</td>\n",
       "        <td style=\"padding-left: 1em; padding-right: 1em; text-align: center; vertical-align: top\">wall coatracks</td>\n",
       "        <td style=\"padding-left: 1em; padding-right: 1em; text-align: center; vertical-align: top\">2</td>\n",
       "        <td style=\"padding-left: 1em; padding-right: 1em; text-align: center; vertical-align: top\">0</td>\n",
       "        <td style=\"padding-left: 1em; padding-right: 1em; text-align: center; vertical-align: top\">0</td>\n",
       "    </tr>\n",
       "    <tr>\n",
       "        <td style=\"padding-left: 1em; padding-right: 1em; text-align: center; vertical-align: top\">[brite, scotch]</td>\n",
       "        <td style=\"padding-left: 1em; padding-right: 1em; text-align: center; vertical-align: top\">[brite, scotch]</td>\n",
       "        <td style=\"padding-left: 1em; padding-right: 1em; text-align: center; vertical-align: top\">149382</td>\n",
       "        <td style=\"padding-left: 1em; padding-right: 1em; text-align: center; vertical-align: top\">scotch brite</td>\n",
       "        <td style=\"padding-left: 1em; padding-right: 1em; text-align: center; vertical-align: top\">2</td>\n",
       "        <td style=\"padding-left: 1em; padding-right: 1em; text-align: center; vertical-align: top\">0</td>\n",
       "        <td style=\"padding-left: 1em; padding-right: 1em; text-align: center; vertical-align: top\">0</td>\n",
       "    </tr>\n",
       "    <tr>\n",
       "        <td style=\"padding-left: 1em; padding-right: 1em; text-align: center; vertical-align: top\">[anti, microbial]</td>\n",
       "        <td style=\"padding-left: 1em; padding-right: 1em; text-align: center; vertical-align: top\">[anti, microbial]</td>\n",
       "        <td style=\"padding-left: 1em; padding-right: 1em; text-align: center; vertical-align: top\">149474</td>\n",
       "        <td style=\"padding-left: 1em; padding-right: 1em; text-align: center; vertical-align: top\">anti microbial</td>\n",
       "        <td style=\"padding-left: 1em; padding-right: 1em; text-align: center; vertical-align: top\">2</td>\n",
       "        <td style=\"padding-left: 1em; padding-right: 1em; text-align: center; vertical-align: top\">0</td>\n",
       "        <td style=\"padding-left: 1em; padding-right: 1em; text-align: center; vertical-align: top\">0</td>\n",
       "    </tr>\n",
       "    <tr>\n",
       "        <td style=\"padding-left: 1em; padding-right: 1em; text-align: center; vertical-align: top\">[volt, 20, dcd790]</td>\n",
       "        <td style=\"padding-left: 1em; padding-right: 1em; text-align: center; vertical-align: top\">[volt, 20, dcd790]</td>\n",
       "        <td style=\"padding-left: 1em; padding-right: 1em; text-align: center; vertical-align: top\">116227</td>\n",
       "        <td style=\"padding-left: 1em; padding-right: 1em; text-align: center; vertical-align: top\">20 volt dcd790</td>\n",
       "        <td style=\"padding-left: 1em; padding-right: 1em; text-align: center; vertical-align: top\">3</td>\n",
       "        <td style=\"padding-left: 1em; padding-right: 1em; text-align: center; vertical-align: top\">0</td>\n",
       "        <td style=\"padding-left: 1em; padding-right: 1em; text-align: center; vertical-align: top\">0</td>\n",
       "    </tr>\n",
       "</table>\n",
       "[19125 rows x 7 columns]<br/>Note: Only the head of the SFrame is printed.<br/>You can use print_rows(num_rows=m, num_columns=n) to print more rows and columns.\n",
       "</div>"
      ],
      "text/plain": [
       "Columns:\n",
       "\tdiff desc\tlist\n",
       "\tdiff title\tlist\n",
       "\tpuid\tint\n",
       "\tsearch term\tstr\n",
       "\tws count\tint\n",
       "\tws count used desc\tint\n",
       "\tws count used title\tint\n",
       "\n",
       "Rows: 19125\n",
       "\n",
       "Data:\n",
       "+--------------------+--------------------+--------+----------------+----------+\n",
       "|     diff desc      |     diff title     |  puid  |  search term   | ws count |\n",
       "+--------------------+--------------------+--------+----------------+----------+\n",
       "|   [concretetile]   |   [concretetile]   | 182917 |  concretetile  |    1     |\n",
       "|    [confrence]     |    [confrence]     | 136503 |   confrence    |    1     |\n",
       "| [over, berh, deck] | [over, berh, deck] | 101795 | berh deck over |    3     |\n",
       "| [barbque, grills]  | [barbque, grills]  | 116142 | barbque grills |    2     |\n",
       "|     [bearings]     |     [bearings]     | 149340 |    bearings    |    1     |\n",
       "|     [medalion]     |     [medalion]     | 136409 |    medalion    |    1     |\n",
       "| [wall, coatracks]  | [wall, coatracks]  | 136407 | wall coatracks |    2     |\n",
       "|  [brite, scotch]   |  [brite, scotch]   | 149382 |  scotch brite  |    2     |\n",
       "| [anti, microbial]  | [anti, microbial]  | 149474 | anti microbial |    2     |\n",
       "| [volt, 20, dcd790] | [volt, 20, dcd790] | 116227 | 20 volt dcd790 |    3     |\n",
       "+--------------------+--------------------+--------+----------------+----------+\n",
       "+--------------------+---------------------+\n",
       "| ws count used desc | ws count used title |\n",
       "+--------------------+---------------------+\n",
       "|         0          |          0          |\n",
       "|         0          |          0          |\n",
       "|         0          |          0          |\n",
       "|         0          |          0          |\n",
       "|         0          |          0          |\n",
       "|         0          |          0          |\n",
       "|         0          |          0          |\n",
       "|         0          |          0          |\n",
       "|         0          |          0          |\n",
       "|         0          |          0          |\n",
       "+--------------------+---------------------+\n",
       "[19125 rows x 7 columns]\n",
       "Note: Only the head of the SFrame is printed.\n",
       "You can use print_rows(num_rows=m, num_columns=n) to print more rows and columns."
      ]
     },
     "execution_count": 12,
     "metadata": {},
     "output_type": "execute_result"
    }
   ],
   "source": [
    "differences.sort(['ws count used desc', 'ws count used title'])"
   ]
  },
  {
   "cell_type": "code",
   "execution_count": 13,
   "metadata": {
    "collapsed": false
   },
   "outputs": [
    {
     "name": "stdout",
     "output_type": "stream",
     "text": [
      "No terms used in description : 2666\n",
      "No terms used in title : 2152\n",
      "No terms used in description and title : 1206\n"
     ]
    }
   ],
   "source": [
    "print \"No terms used in description : \" + str(len(differences[differences['ws count used desc'] == 0]))\n",
    "print \"No terms used in title : \" + str(len(differences[differences['ws count used title'] == 0]))\n",
    "print \"No terms used in description and title : \" + str(len(differences[(differences['ws count used desc'] == 0) & \n",
    "                                                                        (differences['ws count used title'] == 0)]))"
   ]
  },
  {
   "cell_type": "code",
   "execution_count": 14,
   "metadata": {
    "collapsed": true
   },
   "outputs": [],
   "source": [
    "import matplotlib.pyplot as plt\n",
    "%matplotlib inline"
   ]
  },
  {
   "cell_type": "markdown",
   "metadata": {},
   "source": [
    "### Stemming"
   ]
  },
  {
   "cell_type": "code",
   "execution_count": 69,
   "metadata": {
    "collapsed": false
   },
   "outputs": [],
   "source": [
    "#stemmer = SnowballStemmer(\"english\")\n",
    "stemmer = PorterStemmer()\n",
    "def stem(word):\n",
    "    singles = [stemmer.stem(plural) for plural in word.split()]\n",
    "    text = ' '.join(singles)\n",
    "    text = text.replace('\\xe5', '')\n",
    "    return text"
   ]
  },
  {
   "cell_type": "code",
   "execution_count": 70,
   "metadata": {
    "collapsed": false
   },
   "outputs": [
    {
     "ename": "UnicodeDecodeError",
     "evalue": "'utf8' codec can't decode byte 0xe5 in position 0: unexpected end of data",
     "output_type": "error",
     "traceback": [
      "\u001b[1;31m---------------------------------------------------------------------------\u001b[0m",
      "\u001b[1;31mUnicodeDecodeError\u001b[0m                        Traceback (most recent call last)",
      "\u001b[1;32m<ipython-input-70-9a3f7864126b>\u001b[0m in \u001b[0;36m<module>\u001b[1;34m()\u001b[0m\n\u001b[0;32m      1\u001b[0m \u001b[1;32mprint\u001b[0m \u001b[1;34m\"Starting stemming train search term...\"\u001b[0m\u001b[1;33m\u001b[0m\u001b[0m\n\u001b[1;32m----> 2\u001b[1;33m \u001b[0mstemmed\u001b[0m \u001b[1;33m=\u001b[0m \u001b[0mtrain\u001b[0m\u001b[1;33m[\u001b[0m\u001b[1;34m'search_term'\u001b[0m\u001b[1;33m]\u001b[0m\u001b[1;33m.\u001b[0m\u001b[0mapply\u001b[0m\u001b[1;33m(\u001b[0m\u001b[0mstem\u001b[0m\u001b[1;33m)\u001b[0m\u001b[1;33m\u001b[0m\u001b[0m\n\u001b[0m\u001b[0;32m      3\u001b[0m \u001b[0mtrain\u001b[0m\u001b[1;33m[\u001b[0m\u001b[1;34m'stem_search_term'\u001b[0m\u001b[1;33m]\u001b[0m \u001b[1;33m=\u001b[0m \u001b[0mstemmed\u001b[0m\u001b[1;33m\u001b[0m\u001b[0m\n\u001b[0;32m      4\u001b[0m \u001b[1;33m\u001b[0m\u001b[0m\n\u001b[0;32m      5\u001b[0m \u001b[1;32mprint\u001b[0m \u001b[1;34m\"Starting stemming train product description...\"\u001b[0m\u001b[1;33m\u001b[0m\u001b[0m\n",
      "\u001b[1;32mC:\\Users\\T.Jaskula\\AppData\\Local\\Continuum\\Anaconda2\\lib\\site-packages\\graphlab\\data_structures\\sarray.pyc\u001b[0m in \u001b[0;36mapply\u001b[1;34m(self, fn, dtype, skip_undefined, seed)\u001b[0m\n\u001b[0;32m   1667\u001b[0m         \u001b[1;32massert\u001b[0m \u001b[0mcallable\u001b[0m\u001b[1;33m(\u001b[0m\u001b[0mfn\u001b[0m\u001b[1;33m)\u001b[0m\u001b[1;33m,\u001b[0m \u001b[1;34m\"Input function must be callable.\"\u001b[0m\u001b[1;33m\u001b[0m\u001b[0m\n\u001b[0;32m   1668\u001b[0m \u001b[1;33m\u001b[0m\u001b[0m\n\u001b[1;32m-> 1669\u001b[1;33m         \u001b[0mdryrun\u001b[0m \u001b[1;33m=\u001b[0m \u001b[1;33m[\u001b[0m\u001b[0mfn\u001b[0m\u001b[1;33m(\u001b[0m\u001b[0mi\u001b[0m\u001b[1;33m)\u001b[0m \u001b[1;32mfor\u001b[0m \u001b[0mi\u001b[0m \u001b[1;32min\u001b[0m \u001b[0mself\u001b[0m\u001b[1;33m.\u001b[0m\u001b[0mhead\u001b[0m\u001b[1;33m(\u001b[0m\u001b[1;36m100\u001b[0m\u001b[1;33m)\u001b[0m \u001b[1;32mif\u001b[0m \u001b[0mi\u001b[0m \u001b[1;32mis\u001b[0m \u001b[1;32mnot\u001b[0m \u001b[0mNone\u001b[0m\u001b[1;33m]\u001b[0m\u001b[1;33m\u001b[0m\u001b[0m\n\u001b[0m\u001b[0;32m   1670\u001b[0m         \u001b[1;32mif\u001b[0m \u001b[0mdtype\u001b[0m \u001b[1;33m==\u001b[0m \u001b[0mNone\u001b[0m\u001b[1;33m:\u001b[0m\u001b[1;33m\u001b[0m\u001b[0m\n\u001b[0;32m   1671\u001b[0m             \u001b[0mdtype\u001b[0m \u001b[1;33m=\u001b[0m \u001b[0minfer_type_of_list\u001b[0m\u001b[1;33m(\u001b[0m\u001b[0mdryrun\u001b[0m\u001b[1;33m)\u001b[0m\u001b[1;33m\u001b[0m\u001b[0m\n",
      "\u001b[1;32m<ipython-input-69-3b3057203eed>\u001b[0m in \u001b[0;36mstem\u001b[1;34m(word)\u001b[0m\n\u001b[0;32m      4\u001b[0m     \u001b[0msingles\u001b[0m \u001b[1;33m=\u001b[0m \u001b[1;33m[\u001b[0m\u001b[0mstemmer\u001b[0m\u001b[1;33m.\u001b[0m\u001b[0mstem\u001b[0m\u001b[1;33m(\u001b[0m\u001b[0mplural\u001b[0m\u001b[1;33m)\u001b[0m \u001b[1;32mfor\u001b[0m \u001b[0mplural\u001b[0m \u001b[1;32min\u001b[0m \u001b[0mword\u001b[0m\u001b[1;33m.\u001b[0m\u001b[0msplit\u001b[0m\u001b[1;33m(\u001b[0m\u001b[1;33m)\u001b[0m\u001b[1;33m]\u001b[0m\u001b[1;33m\u001b[0m\u001b[0m\n\u001b[0;32m      5\u001b[0m     \u001b[0mtext\u001b[0m \u001b[1;33m=\u001b[0m \u001b[1;34m' '\u001b[0m\u001b[1;33m.\u001b[0m\u001b[0mjoin\u001b[0m\u001b[1;33m(\u001b[0m\u001b[0msingles\u001b[0m\u001b[1;33m)\u001b[0m\u001b[1;33m\u001b[0m\u001b[0m\n\u001b[1;32m----> 6\u001b[1;33m     \u001b[0mtext\u001b[0m \u001b[1;33m=\u001b[0m \u001b[0mtext\u001b[0m\u001b[1;33m.\u001b[0m\u001b[0mreplace\u001b[0m\u001b[1;33m(\u001b[0m\u001b[1;34m'\\xe5'\u001b[0m\u001b[1;33m,\u001b[0m \u001b[1;34m''\u001b[0m\u001b[1;33m)\u001b[0m\u001b[1;33m\u001b[0m\u001b[0m\n\u001b[0m\u001b[0;32m      7\u001b[0m     \u001b[1;32mreturn\u001b[0m \u001b[0mtext\u001b[0m\u001b[1;33m\u001b[0m\u001b[0m\n",
      "\u001b[1;31mUnicodeDecodeError\u001b[0m: 'utf8' codec can't decode byte 0xe5 in position 0: unexpected end of data"
     ]
    }
   ],
   "source": [
    "print \"Starting stemming train search term...\"\n",
    "stemmed = train['search_term'].apply(stem)\n",
    "train['stem_search_term'] = stemmed\n",
    "\n",
    "print \"Starting stemming train product description...\"\n",
    "stemmed = train['product_description'].apply(stem)\n",
    "train['stem_product_description'] = stemmed\n",
    "\n",
    "print \"Starting stemming train product title...\"\n",
    "stemmed = train['product_title'].apply(stem)\n",
    "train['stem_product_title'] = stemmed\n",
    "\n",
    "print \"Starting stemming test search term...\"\n",
    "stemmed = test['search_term'].apply(stem)\n",
    "test['stem_search_term'] = stemmed\n",
    "\n",
    "print \"Starting stemming test product description...\"\n",
    "stemmed = test['product_description'].apply(stem)\n",
    "test['stem_product_description'] = stemmed\n",
    "\n",
    "print \"Starting stemming test product title...\"\n",
    "stemmed = test['product_title'].apply(stem)\n",
    "test['stem_product_title'] = stemmed"
   ]
  },
  {
   "cell_type": "markdown",
   "metadata": {},
   "source": [
    "### TF-IDF with linear regression"
   ]
  },
  {
   "cell_type": "code",
   "execution_count": 53,
   "metadata": {
    "collapsed": false
   },
   "outputs": [],
   "source": [
    "train['search_term_word_count'] = gl.text_analytics.count_words(train['stem_search_term'])\n",
    "train_search_tfidf = gl.text_analytics.tf_idf(train['search_term_word_count'])"
   ]
  },
  {
   "cell_type": "code",
   "execution_count": 54,
   "metadata": {
    "collapsed": false
   },
   "outputs": [],
   "source": [
    "train['search_tfidf'] = train_search_tfidf"
   ]
  },
  {
   "cell_type": "code",
   "execution_count": 55,
   "metadata": {
    "collapsed": false
   },
   "outputs": [],
   "source": [
    "train['product_desc_word_count'] = gl.text_analytics.count_words(train['stem_product_description'])\n",
    "train_desc_tfidf = gl.text_analytics.tf_idf(train['product_desc_word_count'])"
   ]
  },
  {
   "cell_type": "code",
   "execution_count": 56,
   "metadata": {
    "collapsed": true
   },
   "outputs": [],
   "source": [
    "train['desc_tfidf'] = train_desc_tfidf"
   ]
  },
  {
   "cell_type": "code",
   "execution_count": 66,
   "metadata": {
    "collapsed": false
   },
   "outputs": [
    {
     "ename": "RuntimeError",
     "evalue": "Runtime Exception. Traceback (most recent call last):\n  File \"<ipython-input-63-882ad86ba496>\", line 8, in stem\n  File \"C:\\Users\\T.Jaskula\\AppData\\Local\\Continuum\\Anaconda2\\lib\\site-packages\\nltk\\stem\\porter.py\", line 632, in stem\n    stem = self.stem_word(word.lower(), 0, len(word) - 1)\n  File \"C:\\Users\\T.Jaskula\\AppData\\Local\\Continuum\\Anaconda2\\lib\\site-packages\\nltk\\stem\\porter.py\", line 590, in stem_word\n    word = self._step1ab(word)\n  File \"C:\\Users\\T.Jaskula\\AppData\\Local\\Continuum\\Anaconda2\\lib\\site-packages\\nltk\\stem\\porter.py\", line 288, in _step1ab\n    if word.endswith(\"ied\"):\nUnicodeDecodeError: 'ascii' codec can't decode byte 0xe8 in position 2: ordinal not in range(128)\n",
     "output_type": "error",
     "traceback": [
      "\u001b[1;31m---------------------------------------------------------------------------\u001b[0m",
      "\u001b[1;31mRuntimeError\u001b[0m                              Traceback (most recent call last)",
      "\u001b[1;32m<ipython-input-66-b44b0a83a0d1>\u001b[0m in \u001b[0;36m<module>\u001b[1;34m()\u001b[0m\n\u001b[1;32m----> 1\u001b[1;33m \u001b[0mtrain\u001b[0m\u001b[1;33m[\u001b[0m\u001b[1;34m'product_title_word_count'\u001b[0m\u001b[1;33m]\u001b[0m \u001b[1;33m=\u001b[0m \u001b[0mgl\u001b[0m\u001b[1;33m.\u001b[0m\u001b[0mtext_analytics\u001b[0m\u001b[1;33m.\u001b[0m\u001b[0mcount_words\u001b[0m\u001b[1;33m(\u001b[0m\u001b[0mtrain\u001b[0m\u001b[1;33m[\u001b[0m\u001b[1;34m'stem_product_title'\u001b[0m\u001b[1;33m]\u001b[0m\u001b[1;33m)\u001b[0m\u001b[1;33m\u001b[0m\u001b[0m\n\u001b[0m\u001b[0;32m      2\u001b[0m \u001b[0mtrain_title_tfidf\u001b[0m \u001b[1;33m=\u001b[0m \u001b[0mgl\u001b[0m\u001b[1;33m.\u001b[0m\u001b[0mtext_analytics\u001b[0m\u001b[1;33m.\u001b[0m\u001b[0mtf_idf\u001b[0m\u001b[1;33m(\u001b[0m\u001b[0mtrain\u001b[0m\u001b[1;33m[\u001b[0m\u001b[1;34m'product_title_word_count'\u001b[0m\u001b[1;33m]\u001b[0m\u001b[1;33m)\u001b[0m\u001b[1;33m\u001b[0m\u001b[0m\n\u001b[0;32m      3\u001b[0m \u001b[0mtrain\u001b[0m\u001b[1;33m[\u001b[0m\u001b[1;34m'title_tfidf'\u001b[0m\u001b[1;33m]\u001b[0m \u001b[1;33m=\u001b[0m \u001b[0mtrain_title_tfidf\u001b[0m\u001b[1;33m\u001b[0m\u001b[0m\n",
      "\u001b[1;32mC:\\Users\\T.Jaskula\\AppData\\Local\\Continuum\\Anaconda2\\lib\\site-packages\\graphlab\\toolkits\\text_analytics\\_util.pyc\u001b[0m in \u001b[0;36mcount_words\u001b[1;34m(sa, to_lower, delimiters)\u001b[0m\n\u001b[0;32m    109\u001b[0m                                                    \u001b[0mdelimiters\u001b[0m\u001b[1;33m=\u001b[0m\u001b[0mdelimiters\u001b[0m\u001b[1;33m,\u001b[0m\u001b[1;33m\u001b[0m\u001b[0m\n\u001b[0;32m    110\u001b[0m                                                    output_column_prefix=None)\n\u001b[1;32m--> 111\u001b[1;33m     \u001b[0moutput_sf\u001b[0m \u001b[1;33m=\u001b[0m \u001b[0mfe\u001b[0m\u001b[1;33m.\u001b[0m\u001b[0mfit_transform\u001b[0m\u001b[1;33m(\u001b[0m\u001b[0msf\u001b[0m\u001b[1;33m)\u001b[0m\u001b[1;33m\u001b[0m\u001b[0m\n\u001b[0m\u001b[0;32m    112\u001b[0m \u001b[1;33m\u001b[0m\u001b[0m\n\u001b[0;32m    113\u001b[0m     \u001b[1;32mreturn\u001b[0m \u001b[0moutput_sf\u001b[0m\u001b[1;33m[\u001b[0m\u001b[1;34m'docs'\u001b[0m\u001b[1;33m]\u001b[0m\u001b[1;33m\u001b[0m\u001b[0m\n",
      "\u001b[1;32mC:\\Users\\T.Jaskula\\AppData\\Local\\Continuum\\Anaconda2\\lib\\site-packages\\graphlab\\toolkits\\feature_engineering\\_doc_utils.pyc\u001b[0m in \u001b[0;36mfit_transform\u001b[1;34m(self, data)\u001b[0m\n\u001b[0;32m     17\u001b[0m \u001b[1;33m\u001b[0m\u001b[0m\n\u001b[0;32m     18\u001b[0m \u001b[1;32mdef\u001b[0m \u001b[0mfit_transform\u001b[0m\u001b[1;33m(\u001b[0m\u001b[0mself\u001b[0m\u001b[1;33m,\u001b[0m \u001b[0mdata\u001b[0m\u001b[1;33m)\u001b[0m\u001b[1;33m:\u001b[0m\u001b[1;33m\u001b[0m\u001b[0m\n\u001b[1;32m---> 19\u001b[1;33m     \u001b[1;32mreturn\u001b[0m \u001b[0mTransformer\u001b[0m\u001b[1;33m.\u001b[0m\u001b[0mfit_transform\u001b[0m\u001b[1;33m(\u001b[0m\u001b[0mself\u001b[0m\u001b[1;33m,\u001b[0m \u001b[0mdata\u001b[0m\u001b[1;33m)\u001b[0m\u001b[1;33m\u001b[0m\u001b[0m\n\u001b[0m\u001b[0;32m     20\u001b[0m \u001b[1;33m\u001b[0m\u001b[0m\n\u001b[0;32m     21\u001b[0m \u001b[1;32mdef\u001b[0m \u001b[0mrepublish_docs\u001b[0m\u001b[1;33m(\u001b[0m\u001b[0mcls\u001b[0m\u001b[1;33m)\u001b[0m\u001b[1;33m:\u001b[0m\u001b[1;33m\u001b[0m\u001b[0m\n",
      "\u001b[1;32mC:\\Users\\T.Jaskula\\AppData\\Local\\Continuum\\Anaconda2\\lib\\site-packages\\graphlab\\toolkits\\feature_engineering\\_feature_engineering.pyc\u001b[0m in \u001b[0;36mfit_transform\u001b[1;34m(self, data)\u001b[0m\n\u001b[0;32m    317\u001b[0m         \u001b[0m_raise_error_if_not_sframe\u001b[0m\u001b[1;33m(\u001b[0m\u001b[0mdata\u001b[0m\u001b[1;33m,\u001b[0m \u001b[1;34m\"data\"\u001b[0m\u001b[1;33m)\u001b[0m\u001b[1;33m\u001b[0m\u001b[0m\n\u001b[0;32m    318\u001b[0m         \u001b[0m_mt\u001b[0m\u001b[1;33m.\u001b[0m\u001b[0m_get_metric_tracker\u001b[0m\u001b[1;33m(\u001b[0m\u001b[1;33m)\u001b[0m\u001b[1;33m.\u001b[0m\u001b[0mtrack\u001b[0m\u001b[1;33m(\u001b[0m\u001b[0mself\u001b[0m\u001b[1;33m.\u001b[0m\u001b[0m__class__\u001b[0m\u001b[1;33m.\u001b[0m\u001b[0m__module__\u001b[0m \u001b[1;33m+\u001b[0m \u001b[1;34m'.fit_transform'\u001b[0m\u001b[1;33m)\u001b[0m\u001b[1;33m\u001b[0m\u001b[0m\n\u001b[1;32m--> 319\u001b[1;33m         \u001b[1;32mreturn\u001b[0m \u001b[0mself\u001b[0m\u001b[1;33m.\u001b[0m\u001b[0m__proxy__\u001b[0m\u001b[1;33m.\u001b[0m\u001b[0mfit_transform\u001b[0m\u001b[1;33m(\u001b[0m\u001b[0mdata\u001b[0m\u001b[1;33m)\u001b[0m\u001b[1;33m\u001b[0m\u001b[0m\n\u001b[0m\u001b[0;32m    320\u001b[0m \u001b[1;33m\u001b[0m\u001b[0m\n\u001b[0;32m    321\u001b[0m     \u001b[1;32mdef\u001b[0m \u001b[0m_get_wrapper\u001b[0m\u001b[1;33m(\u001b[0m\u001b[0mself\u001b[0m\u001b[1;33m)\u001b[0m\u001b[1;33m:\u001b[0m\u001b[1;33m\u001b[0m\u001b[0m\n",
      "\u001b[1;32mC:\\Users\\T.Jaskula\\AppData\\Local\\Continuum\\Anaconda2\\lib\\site-packages\\graphlab\\extensions.pyc\u001b[0m in \u001b[0;36m<lambda>\u001b[1;34m(*args, **kwargs)\u001b[0m\n\u001b[0;32m    310\u001b[0m         \u001b[1;32melif\u001b[0m \u001b[0mname\u001b[0m \u001b[1;32min\u001b[0m \u001b[0mself\u001b[0m\u001b[1;33m.\u001b[0m\u001b[0m_functions\u001b[0m\u001b[1;33m:\u001b[0m\u001b[1;33m\u001b[0m\u001b[0m\n\u001b[0;32m    311\u001b[0m             \u001b[1;31m# is it a function?\u001b[0m\u001b[1;33m\u001b[0m\u001b[1;33m\u001b[0m\u001b[0m\n\u001b[1;32m--> 312\u001b[1;33m             \u001b[0mret\u001b[0m \u001b[1;33m=\u001b[0m \u001b[1;32mlambda\u001b[0m \u001b[1;33m*\u001b[0m\u001b[0margs\u001b[0m\u001b[1;33m,\u001b[0m \u001b[1;33m**\u001b[0m\u001b[0mkwargs\u001b[0m\u001b[1;33m:\u001b[0m \u001b[0mself\u001b[0m\u001b[1;33m.\u001b[0m\u001b[0m__run_class_function\u001b[0m\u001b[1;33m(\u001b[0m\u001b[0mname\u001b[0m\u001b[1;33m,\u001b[0m \u001b[0margs\u001b[0m\u001b[1;33m,\u001b[0m \u001b[0mkwargs\u001b[0m\u001b[1;33m)\u001b[0m\u001b[1;33m\u001b[0m\u001b[0m\n\u001b[0m\u001b[0;32m    313\u001b[0m             \u001b[0mret\u001b[0m\u001b[1;33m.\u001b[0m\u001b[0m__doc__\u001b[0m \u001b[1;33m=\u001b[0m \u001b[1;34m\"Name: \"\u001b[0m \u001b[1;33m+\u001b[0m \u001b[0mname\u001b[0m \u001b[1;33m+\u001b[0m \u001b[1;34m\"\\nParameters: \"\u001b[0m \u001b[1;33m+\u001b[0m \u001b[0mstr\u001b[0m\u001b[1;33m(\u001b[0m\u001b[0mself\u001b[0m\u001b[1;33m.\u001b[0m\u001b[0m_functions\u001b[0m\u001b[1;33m[\u001b[0m\u001b[0mname\u001b[0m\u001b[1;33m]\u001b[0m\u001b[1;33m)\u001b[0m \u001b[1;33m+\u001b[0m \u001b[1;34m\"\\n\"\u001b[0m\u001b[1;33m\u001b[0m\u001b[0m\n\u001b[0;32m    314\u001b[0m             \u001b[1;32mtry\u001b[0m\u001b[1;33m:\u001b[0m\u001b[1;33m\u001b[0m\u001b[0m\n",
      "\u001b[1;32mC:\\Users\\T.Jaskula\\AppData\\Local\\Continuum\\Anaconda2\\lib\\site-packages\\graphlab\\extensions.pyc\u001b[0m in \u001b[0;36m__run_class_function\u001b[1;34m(self, fnname, args, kwargs)\u001b[0m\n\u001b[0;32m    296\u001b[0m         \u001b[1;31m# unwrap it\u001b[0m\u001b[1;33m\u001b[0m\u001b[1;33m\u001b[0m\u001b[0m\n\u001b[0;32m    297\u001b[0m         \u001b[0margument_dict\u001b[0m\u001b[1;33m[\u001b[0m\u001b[1;34m'__function_name__'\u001b[0m\u001b[1;33m]\u001b[0m \u001b[1;33m=\u001b[0m \u001b[0mfnname\u001b[0m\u001b[1;33m\u001b[0m\u001b[0m\n\u001b[1;32m--> 298\u001b[1;33m         \u001b[0mret\u001b[0m \u001b[1;33m=\u001b[0m \u001b[0mself\u001b[0m\u001b[1;33m.\u001b[0m\u001b[0m_tkclass\u001b[0m\u001b[1;33m.\u001b[0m\u001b[0mget\u001b[0m\u001b[1;33m(\u001b[0m\u001b[1;34m'call_function'\u001b[0m\u001b[1;33m,\u001b[0m \u001b[0margument_dict\u001b[0m\u001b[1;33m)\u001b[0m\u001b[1;33m\u001b[0m\u001b[0m\n\u001b[0m\u001b[0;32m    299\u001b[0m         \u001b[0mret\u001b[0m \u001b[1;33m=\u001b[0m \u001b[0m_wrap_function_return\u001b[0m\u001b[1;33m(\u001b[0m\u001b[0mret\u001b[0m\u001b[1;33m)\u001b[0m\u001b[1;33m\u001b[0m\u001b[0m\n\u001b[0;32m    300\u001b[0m         \u001b[1;32mreturn\u001b[0m \u001b[0mret\u001b[0m\u001b[1;33m\u001b[0m\u001b[0m\n",
      "\u001b[1;32mgraphlab\\cython\\cy_model.pyx\u001b[0m in \u001b[0;36mgraphlab.cython.cy_model.UnityModel.get\u001b[1;34m()\u001b[0m\n",
      "\u001b[1;32mgraphlab\\cython\\cy_model.pyx\u001b[0m in \u001b[0;36mgraphlab.cython.cy_model.UnityModel.get\u001b[1;34m()\u001b[0m\n",
      "\u001b[1;31mRuntimeError\u001b[0m: Runtime Exception. Traceback (most recent call last):\n  File \"<ipython-input-63-882ad86ba496>\", line 8, in stem\n  File \"C:\\Users\\T.Jaskula\\AppData\\Local\\Continuum\\Anaconda2\\lib\\site-packages\\nltk\\stem\\porter.py\", line 632, in stem\n    stem = self.stem_word(word.lower(), 0, len(word) - 1)\n  File \"C:\\Users\\T.Jaskula\\AppData\\Local\\Continuum\\Anaconda2\\lib\\site-packages\\nltk\\stem\\porter.py\", line 590, in stem_word\n    word = self._step1ab(word)\n  File \"C:\\Users\\T.Jaskula\\AppData\\Local\\Continuum\\Anaconda2\\lib\\site-packages\\nltk\\stem\\porter.py\", line 288, in _step1ab\n    if word.endswith(\"ied\"):\nUnicodeDecodeError: 'ascii' codec can't decode byte 0xe8 in position 2: ordinal not in range(128)\n"
     ]
    }
   ],
   "source": [
    "train['product_title_word_count'] = gl.text_analytics.count_words(train['stem_product_title'])\n",
    "train_title_tfidf = gl.text_analytics.tf_idf(train['product_title_word_count'])\n",
    "train['title_tfidf'] = train_title_tfidf"
   ]
  },
  {
   "cell_type": "code",
   "execution_count": null,
   "metadata": {
    "collapsed": false
   },
   "outputs": [],
   "source": [
    "train['distance_desc'] = train.apply(lambda x: gl.distances.cosine(x['search_tfidf'],x['desc_tfidf']))\n",
    "train['distance_desc_sqrt'] = train['distance_desc'] ** 2\n",
    "train['distance_title'] = train.apply(lambda x: gl.distances.cosine(x['search_tfidf'],x['title_tfidf']))\n",
    "train['distance_title_sqrt'] = train['distance_title'] ** 3"
   ]
  },
  {
   "cell_type": "code",
   "execution_count": null,
   "metadata": {
    "collapsed": false
   },
   "outputs": [],
   "source": [
    "model1 = gl.linear_regression.create(train, target = 'relevance', \n",
    "                                         features = ['distance_desc', 'distance_desc_sqrt', 'distance_title', 'distance_title_sqrt'], \n",
    "                                         validation_set = None)"
   ]
  },
  {
   "cell_type": "code",
   "execution_count": null,
   "metadata": {
    "collapsed": false
   },
   "outputs": [],
   "source": [
    "#let's take a look at the weights before we plot\n",
    "model1.get(\"coefficients\")"
   ]
  },
  {
   "cell_type": "code",
   "execution_count": null,
   "metadata": {
    "collapsed": true
   },
   "outputs": [],
   "source": [
    "test['search_term_word_count'] = gl.text_analytics.count_words(test['stem_search_term'])\n",
    "test_search_tfidf = gl.text_analytics.tf_idf(test['search_term_word_count'])\n",
    "test['search_tfidf'] = test_search_tfidf\n",
    "test['product_desc_word_count'] = gl.text_analytics.count_words(test['stem_product_description'])\n",
    "test_desc_tfidf = gl.text_analytics.tf_idf(test['product_desc_word_count'])\n",
    "test['desc_tfidf'] = test_desc_tfidf\n",
    "test['product_title_word_count'] = gl.text_analytics.count_words(test['stem_product_title'])\n",
    "test_title_tfidf = gl.text_analytics.tf_idf(test['product_title_word_count'])\n",
    "test['title_tfidf'] = test_title_tfidf\n",
    "\n",
    "test['distance_desc'] = test.apply(lambda x: gl.distances.cosine(x['search_tfidf'],x['desc_tfidf']))\n",
    "test['distance_desc_sqrt'] = test['distance_desc'] ** 2\n",
    "test['distance_title'] = test.apply(lambda x: gl.distances.cosine(x['search_tfidf'],x['title_tfidf']))\n",
    "test['distance_title_sqrt'] = test['distance_title'] ** 3"
   ]
  },
  {
   "cell_type": "code",
   "execution_count": null,
   "metadata": {
    "collapsed": false
   },
   "outputs": [],
   "source": [
    "'''\n",
    "predictions_test = model1.predict(test)\n",
    "test_errors = predictions_test - test['relevance']\n",
    "RSS_test = sum(test_errors * test_errors)\n",
    "print RSS_test\n",
    "'''"
   ]
  },
  {
   "cell_type": "code",
   "execution_count": null,
   "metadata": {
    "collapsed": false
   },
   "outputs": [],
   "source": [
    "predictions_test = model1.predict(test)\n",
    "predictions_test"
   ]
  },
  {
   "cell_type": "code",
   "execution_count": null,
   "metadata": {
    "collapsed": true
   },
   "outputs": [],
   "source": [
    "submission = gl.SFrame(test['id'])"
   ]
  },
  {
   "cell_type": "code",
   "execution_count": null,
   "metadata": {
    "collapsed": false
   },
   "outputs": [],
   "source": [
    "submission.add_column(predictions_test)\n",
    "submission.rename({'X1': 'id', 'X2':'relevance'})"
   ]
  },
  {
   "cell_type": "code",
   "execution_count": null,
   "metadata": {
    "collapsed": false
   },
   "outputs": [],
   "source": [
    "submission['relevance'] = submission.apply(lambda x: 3.0 if x['relevance'] > 3.0 else x['relevance'])\n",
    "submission['relevance'] = submission.apply(lambda x: 1.0 if x['relevance'] < 1.0 else x['relevance'])"
   ]
  },
  {
   "cell_type": "code",
   "execution_count": null,
   "metadata": {
    "collapsed": false
   },
   "outputs": [],
   "source": [
    "submission['relevance'] = submission.apply(lambda x: str(x['relevance']))"
   ]
  },
  {
   "cell_type": "code",
   "execution_count": null,
   "metadata": {
    "collapsed": false
   },
   "outputs": [],
   "source": [
    "submission.export_csv('../data/submission2.csv', quote_level = 3)"
   ]
  },
  {
   "cell_type": "code",
   "execution_count": null,
   "metadata": {
    "collapsed": true
   },
   "outputs": [],
   "source": [
    "#gl.canvas.set_target('ipynb')"
   ]
  }
 ],
 "metadata": {
  "kernelspec": {
   "display_name": "Python 2",
   "language": "python",
   "name": "python2"
  },
  "language_info": {
   "codemirror_mode": {
    "name": "ipython",
    "version": 2
   },
   "file_extension": ".py",
   "mimetype": "text/x-python",
   "name": "python",
   "nbconvert_exporter": "python",
   "pygments_lexer": "ipython2",
   "version": "2.7.11"
  }
 },
 "nbformat": 4,
 "nbformat_minor": 0
}
